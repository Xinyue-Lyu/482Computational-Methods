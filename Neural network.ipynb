{
  "cells": [
    {
      "cell_type": "code",
      "execution_count": null,
      "metadata": {
        "id": "p5dL4YeVorzV"
      },
      "outputs": [],
      "source": [
        "import numpy as np\n",
        "import torch\n",
        "from torch import nn\n",
        "import tqdm"
      ]
    },
    {
      "cell_type": "code",
      "execution_count": null,
      "metadata": {
        "id": "zuEZ4k8FAbEC"
      },
      "outputs": [],
      "source": [
        "import torchvision\n",
        "import matplotlib.pyplot as plt\n",
        "from torch.utils.data import DataLoader, Subset\n",
        "from sklearn.model_selection import train_test_split\n"
      ]
    },
    {
      "cell_type": "code",
      "execution_count": null,
      "metadata": {
        "colab": {
          "base_uri": "https://localhost:8080/"
        },
        "id": "feGo1EKE4sRg",
        "outputId": "724f4f6a-37a8-4702-bf18-85046d47ec97"
      },
      "outputs": [
        {
          "name": "stderr",
          "output_type": "stream",
          "text": [
            "100%|██████████| 26.4M/26.4M [00:03<00:00, 8.73MB/s]\n",
            "100%|██████████| 29.5k/29.5k [00:00<00:00, 135kB/s]\n",
            "100%|██████████| 4.42M/4.42M [00:01<00:00, 2.51MB/s]\n",
            "100%|██████████| 5.15k/5.15k [00:00<00:00, 9.18MB/s]"
          ]
        },
        {
          "name": "stdout",
          "output_type": "stream",
          "text": [
            "106\n",
            "12\n",
            "40\n"
          ]
        },
        {
          "name": "stderr",
          "output_type": "stream",
          "text": [
            "\n"
          ]
        }
      ],
      "source": [
        "# Use the following code to load and normalize the dataset for training and testing\n",
        "# It will downlad the dataset into data subfolder (change to your data folder name)\n",
        "train_dataset = torchvision.datasets.FashionMNIST('data/', train=True, download=True,\n",
        "                             transform=torchvision.transforms.Compose([\n",
        "                               torchvision.transforms.ToTensor(),\n",
        "                               torchvision.transforms.Normalize(\n",
        "                                 (0.1307,), (0.3081,))\n",
        "                             ]))\n",
        "\n",
        "test_dataset = torchvision.datasets.FashionMNIST('data/', train=False, download=True,\n",
        "                             transform=torchvision.transforms.Compose([\n",
        "                               torchvision.transforms.ToTensor(),\n",
        "                               torchvision.transforms.Normalize(\n",
        "                                 (0.1307,), (0.3081,))\n",
        "                             ]))\n",
        "\n",
        "\n",
        "# Use the following code to create a validation set of 10%\n",
        "train_indices, val_indices, _, _ = train_test_split(\n",
        "    range(len(train_dataset)),\n",
        "    train_dataset.targets,\n",
        "    stratify=train_dataset.targets,\n",
        "    test_size=0.1,\n",
        ")\n",
        "\n",
        "# Generate training and validation subsets based on indices\n",
        "train_split = Subset(train_dataset, train_indices)\n",
        "val_split = Subset(train_dataset, val_indices)\n",
        "\n",
        "\n",
        "# set batches sizes\n",
        "train_batch_size = 512 #Define train batch size\n",
        "test_batch_size  = 256 #Define test batch size (can be larger than train batch size)\n",
        "\n",
        "\n",
        "# Define dataloader objects that help to iterate over batches and samples for\n",
        "# training, validation and testing\n",
        "train_batches = DataLoader(train_split, batch_size=train_batch_size, shuffle=True)\n",
        "val_batches = DataLoader(val_split, batch_size=train_batch_size, shuffle=True)\n",
        "test_batches = DataLoader(test_dataset, batch_size=test_batch_size, shuffle=True)\n",
        "\n",
        "num_train_batches=len(train_batches)\n",
        "num_val_batches=len(val_batches)\n",
        "num_test_batches=len(test_batches)\n",
        "\n",
        "\n",
        "print(num_train_batches)\n",
        "print(num_val_batches)\n",
        "print(num_test_batches)\n",
        "\n",
        "\n",
        "#Sample code to visulaize the first sample in first 16 batches\n",
        "\n",
        "# batch_num = 0\n",
        "# for train_features, train_labels in train_batches:\n",
        "\n",
        "#     if batch_num == 16:\n",
        "#         break    # break here\n",
        "\n",
        "#     batch_num = batch_num +1\n",
        "#     print(f\"Feature batch shape: {train_features.size()}\")\n",
        "#     print(f\"Labels batch shape: {train_labels.size()}\")\n",
        "\n",
        "    # img = train_features[0].squeeze()\n",
        "    # label = train_labels[0]\n",
        "    # plt.imshow(img, cmap=\"gray\")\n",
        "    # plt.show()\n",
        "    # print(f\"Label: {label}\")\n",
        "\n",
        "\n",
        "\n",
        "#Sample code to plot N^2 images from the dataset\n",
        "# def plot_images(XX, N, title):\n",
        "#     fig, ax = plt.subplots(N, N, figsize=(8, 8))\n",
        "\n",
        "#     for i in range(N):\n",
        "#       for j in range(N):\n",
        "#         ax[i,j].imshow(XX[(N)*i+j], cmap=\"Greys\")\n",
        "#         ax[i,j].axis(\"off\")\n",
        "#     fig.suptitle(title, fontsize=24)\n",
        "\n",
        "# plot_images(train_dataset.data[:64], 8, \"First 64 Training Images\" )\n",
        "\n"
      ]
    },
    {
      "cell_type": "code",
      "execution_count": null,
      "metadata": {
        "id": "VLfDOZRQYH3j"
      },
      "outputs": [],
      "source": [
        "class ACAIGFCN(nn.Module):\n",
        "    def __init__(self, input_dim, output_dim, hidden_dims, dropout_prob):\n",
        "        super(ACAIGFCN, self).__init__()\n",
        "\n",
        "        self.layers = nn.ModuleList()\n",
        "        self.dropouts = nn.ModuleList()\n",
        "        prev_dim = input_dim\n",
        "\n",
        "        # Hidden Layers with Dropout\n",
        "        for h_dim in hidden_dims:\n",
        "            self.layers.append(nn.Linear(prev_dim, h_dim))\n",
        "            self.dropouts.append(nn.Dropout(p=dropout_prob))  # Dropout layer\n",
        "            prev_dim = h_dim\n",
        "\n",
        "        # Output Layer\n",
        "        self.output_layer = nn.Linear(prev_dim, output_dim)\n",
        "\n",
        "    def forward(self, input):\n",
        "        for layer, dropout in zip(self.layers, self.dropouts):\n",
        "            input = torch.nn.functional.relu(layer(input))  # Activation\n",
        "            input = dropout(input)  # Apply Dropout\n",
        "\n",
        "        input = self.output_layer(input)\n",
        "        return input\n"
      ]
    },
    {
      "cell_type": "code",
      "execution_count": null,
      "metadata": {
        "id": "0F_DyktW8Bgw"
      },
      "outputs": [],
      "source": [
        "def FCN_accuracy(batchSize, test_batch_size, epochs,\n",
        "                  hidden_dim, learning_rate, optimizer,dropout):\n",
        "\n",
        "  train_batches = DataLoader(train_split, batch_size=batchSize, shuffle=True)\n",
        "  val_batches = DataLoader(val_split, batch_size=batchSize, shuffle=True)\n",
        "  test_batches = DataLoader(test_dataset, batch_size=test_batch_size, shuffle=True)\n",
        "\n",
        "  # Initialize neural network model #[50, 64, 80]\n",
        "  model = ACAIGFCN(input_dim = 784, output_dim = 10, hidden_dims = hidden_dim, dropout_prob=dropout)\n",
        "\n",
        "  train_loss_list = np.zeros((epochs,))\n",
        "  validation_accuracy_list = np.zeros((epochs,))\n",
        "\n",
        "  # Define loss function  and optimizer\n",
        "  loss_func = torch.nn.CrossEntropyLoss() # Cross Entropy loss\n",
        "  optm = optimizer(model.parameters(), lr=learning_rate) # torch.optim.SGD\n",
        "\n",
        "  # Iterate over epochs, batches with progress bar and train+ validate the ACAIGFCN\n",
        "  # Track the loss and validation accuracy\n",
        "  for epoch in tqdm.trange(epochs):\n",
        "    total_loss = 0\n",
        "\n",
        "    # ACAIGFCN Training\n",
        "    for train_features, train_labels in train_batches:\n",
        "        # Set model into training mode\n",
        "        model.train()\n",
        "\n",
        "        # Reshape images into a vector\n",
        "        train_features = train_features.reshape(-1, 28*28)\n",
        "\n",
        "        # Reset gradients, Calculate training loss on model\n",
        "        # Perfrom optimization, back propagation\n",
        "        optm.zero_grad()\n",
        "        outputs = model(train_features)\n",
        "        loss = loss_func(outputs, train_labels)\n",
        "        loss.backward()\n",
        "        optm.step()\n",
        "\n",
        "        total_loss += loss.item()\n",
        "\n",
        "    # Record loss for the epoch\n",
        "    train_loss_list[epoch] = total_loss / len(train_batches)\n",
        "\n",
        "\n",
        "    # ACAIGFCN Validation\n",
        "    correct = 0\n",
        "    total = 0\n",
        "    for val_features, val_labels in val_batches:\n",
        "        # Telling PyTorch we aren't passing inputs to network for training purpose\n",
        "        with torch.no_grad():\n",
        "            model.eval()\n",
        "\n",
        "            # Reshape validation images into a vector\n",
        "            val_features = val_features.reshape(-1, 28*28)\n",
        "\n",
        "            # Compute validation outputs (targets)\n",
        "            # and compute accuracy\n",
        "            validation_outputs = model(val_features)\n",
        "\n",
        "            correct += (torch.argmax(validation_outputs, dim=1) == val_labels).sum().item()#.type(torch.FloatTensor)\n",
        "            total += val_labels.size(0)\n",
        "    validation_accuracy_list[epoch] = (correct / total) * 100\n",
        "            #validation_accuracy_list[epoch] += correct.mean().item()\n",
        "\n",
        "    #validation_accuracy_list[epoch] = validation_accuracy_list[epoch]/len(val_batches)\n",
        "\n",
        "    # Record accuracy for the epoch; print training loss, validation accuracy val_acc * 100:.2f\n",
        "    print(f\"Epoch {epoch+1}: Training Loss = {train_loss_list[epoch]:.4f}, Validation Accuracy: {validation_accuracy_list[epoch] :.2f}%\") #)\n",
        "\n",
        "\n",
        "  #Calculate accuracy on test set\n",
        "  t_correct = 0\n",
        "  t_total = 0\n",
        "  # Telling PyTorch we aren't passing inputs to network for training purpose\n",
        "  with torch.no_grad():\n",
        "      for test_features, test_labels in test_batches:\n",
        "        model.eval()\n",
        "        # Reshape test images into a vector\n",
        "        test_features = test_features.reshape(-1, 28*28)\n",
        "\n",
        "        # Get model predictions\n",
        "        t_outputs = model(test_features)\n",
        "        predicted = torch.argmax(t_outputs, dim=1)\n",
        "\n",
        "        # Count correct predictions\n",
        "        t_correct += (predicted == test_labels).sum().item()\n",
        "        t_total += test_labels.size(0)\n",
        "\n",
        "  # Compute total test accuracy\n",
        "  test_accuracy = (t_correct / t_total) * 100\n",
        "\n",
        "  return train_loss_list, validation_accuracy_list, test_accuracy"
      ]
    },
    {
      "cell_type": "code",
      "execution_count": null,
      "metadata": {
        "colab": {
          "base_uri": "https://localhost:8080/"
        },
        "id": "wlqyE3J_jjNx",
        "outputId": "cd317b02-7f16-4416-bea3-7fcb0f7dfd14"
      },
      "outputs": [
        {
          "name": "stderr",
          "output_type": "stream",
          "text": [
            " 10%|█         | 1/10 [00:22<03:24, 22.75s/it]"
          ]
        },
        {
          "name": "stdout",
          "output_type": "stream",
          "text": [
            "Epoch 1: Training Loss = 1.3134, Validation Accuracy: 69.50%\n"
          ]
        },
        {
          "name": "stderr",
          "output_type": "stream",
          "text": [
            "\r 20%|██        | 2/10 [00:38<02:30, 18.85s/it]"
          ]
        },
        {
          "name": "stdout",
          "output_type": "stream",
          "text": [
            "Epoch 2: Training Loss = 0.6837, Validation Accuracy: 76.65%\n"
          ]
        },
        {
          "name": "stderr",
          "output_type": "stream",
          "text": [
            "\r 30%|███       | 3/10 [00:55<02:05, 17.94s/it]"
          ]
        },
        {
          "name": "stdout",
          "output_type": "stream",
          "text": [
            "Epoch 3: Training Loss = 0.5564, Validation Accuracy: 80.67%\n"
          ]
        },
        {
          "name": "stderr",
          "output_type": "stream",
          "text": [
            "\r 40%|████      | 4/10 [01:11<01:42, 17.04s/it]"
          ]
        },
        {
          "name": "stdout",
          "output_type": "stream",
          "text": [
            "Epoch 4: Training Loss = 0.4974, Validation Accuracy: 84.23%\n"
          ]
        },
        {
          "name": "stderr",
          "output_type": "stream",
          "text": [
            "\r 50%|█████     | 5/10 [01:28<01:24, 16.94s/it]"
          ]
        },
        {
          "name": "stdout",
          "output_type": "stream",
          "text": [
            "Epoch 5: Training Loss = 0.4631, Validation Accuracy: 85.05%\n"
          ]
        },
        {
          "name": "stderr",
          "output_type": "stream",
          "text": [
            "\r 60%|██████    | 6/10 [01:44<01:07, 16.78s/it]"
          ]
        },
        {
          "name": "stdout",
          "output_type": "stream",
          "text": [
            "Epoch 6: Training Loss = 0.4367, Validation Accuracy: 85.80%\n"
          ]
        },
        {
          "name": "stderr",
          "output_type": "stream",
          "text": [
            "\r 70%|███████   | 7/10 [02:00<00:49, 16.42s/it]"
          ]
        },
        {
          "name": "stdout",
          "output_type": "stream",
          "text": [
            "Epoch 7: Training Loss = 0.4139, Validation Accuracy: 85.18%\n"
          ]
        },
        {
          "name": "stderr",
          "output_type": "stream",
          "text": [
            "\r 80%|████████  | 8/10 [02:16<00:32, 16.42s/it]"
          ]
        },
        {
          "name": "stdout",
          "output_type": "stream",
          "text": [
            "Epoch 8: Training Loss = 0.3991, Validation Accuracy: 86.32%\n"
          ]
        },
        {
          "name": "stderr",
          "output_type": "stream",
          "text": [
            "\r 90%|█████████ | 9/10 [02:32<00:16, 16.27s/it]"
          ]
        },
        {
          "name": "stdout",
          "output_type": "stream",
          "text": [
            "Epoch 9: Training Loss = 0.3876, Validation Accuracy: 87.02%\n"
          ]
        },
        {
          "name": "stderr",
          "output_type": "stream",
          "text": [
            "100%|██████████| 10/10 [02:48<00:00, 16.83s/it]"
          ]
        },
        {
          "name": "stdout",
          "output_type": "stream",
          "text": [
            "Epoch 10: Training Loss = 0.3744, Validation Accuracy: 86.55%\n"
          ]
        },
        {
          "name": "stderr",
          "output_type": "stream",
          "text": [
            "\n"
          ]
        },
        {
          "data": {
            "text/plain": [
              "85.16"
            ]
          },
          "execution_count": 9,
          "metadata": {},
          "output_type": "execute_result"
        }
      ],
      "source": [
        "train_loss_list, validation_accuracy_list, test_accuracy = FCN_accuracy(450,500,10,[200, 200, 280],0.05,torch.optim.SGD,0)\n",
        "test_accuracy # =85.2"
      ]
    },
    {
      "cell_type": "code",
      "execution_count": null,
      "metadata": {
        "colab": {
          "base_uri": "https://localhost:8080/",
          "height": 564
        },
        "id": "fqklCkk8AbEE",
        "outputId": "f792da6a-dee0-4b64-e155-4644f9ded121"
      },
      "outputs": [
        {
          "data": {
            "image/png": "[encoded data removed]",
            "text/plain": [
              "<Figure size 1200x600 with 2 Axes>"
            ]
          },
          "metadata": {},
          "output_type": "display_data"
        }
      ],
      "source": [
        "# Plot training loss and validation accuracy throughout the training epochs\n",
        "import seaborn as sns\n",
        "\n",
        "sns.set(style = 'whitegrid', font_scale = 1.5)\n",
        "plt.figure(figsize = (12, 6))\n",
        "\n",
        "plt.subplot(2, 1, 1)\n",
        "plt.plot(train_loss_list, linewidth = 3)\n",
        "plt.ylabel(\"training loss\")\n",
        "plt.xlabel(\"epochs\")\n",
        "\n",
        "plt.subplot(2, 1, 2)\n",
        "plt.plot(validation_accuracy_list, linewidth = 3, color = 'gold')\n",
        "plt.ylabel(\"validation accuracy\")\n",
        "plt.xlabel(\"epochs\")\n",
        "sns.despine()"
      ]
    },
    {
      "cell_type": "code",
      "execution_count": null,
      "metadata": {
        "colab": {
          "base_uri": "https://localhost:8080/",
          "height": 1000
        },
        "id": "IWXeuaRiAbEE",
        "outputId": "fd8f8243-e341-4452-8bf5-f9690d08a094"
      },
      "outputs": [
        {
          "name": "stderr",
          "output_type": "stream",
          "text": [
            " 10%|█         | 1/10 [00:16<02:24, 16.09s/it]"
          ]
        },
        {
          "name": "stdout",
          "output_type": "stream",
          "text": [
            "Epoch 1: Training Loss = 1.1226, Validation Accuracy: 75.67%\n"
          ]
        },
        {
          "name": "stderr",
          "output_type": "stream",
          "text": [
            "\r 20%|██        | 2/10 [00:31<02:05, 15.65s/it]"
          ]
        },
        {
          "name": "stdout",
          "output_type": "stream",
          "text": [
            "Epoch 2: Training Loss = 0.6034, Validation Accuracy: 78.70%\n"
          ]
        },
        {
          "name": "stderr",
          "output_type": "stream",
          "text": [
            "\r 30%|███       | 3/10 [00:47<01:50, 15.73s/it]"
          ]
        },
        {
          "name": "stdout",
          "output_type": "stream",
          "text": [
            "Epoch 3: Training Loss = 0.5062, Validation Accuracy: 83.08%\n"
          ]
        },
        {
          "name": "stderr",
          "output_type": "stream",
          "text": [
            "\r 40%|████      | 4/10 [01:03<01:35, 15.95s/it]"
          ]
        },
        {
          "name": "stdout",
          "output_type": "stream",
          "text": [
            "Epoch 4: Training Loss = 0.4471, Validation Accuracy: 83.97%\n"
          ]
        },
        {
          "name": "stderr",
          "output_type": "stream",
          "text": [
            "\r 50%|█████     | 5/10 [01:19<01:20, 16.07s/it]"
          ]
        },
        {
          "name": "stdout",
          "output_type": "stream",
          "text": [
            "Epoch 5: Training Loss = 0.4189, Validation Accuracy: 83.57%\n"
          ]
        },
        {
          "name": "stderr",
          "output_type": "stream",
          "text": [
            "\r 60%|██████    | 6/10 [01:35<01:04, 16.07s/it]"
          ]
        },
        {
          "name": "stdout",
          "output_type": "stream",
          "text": [
            "Epoch 6: Training Loss = 0.3958, Validation Accuracy: 86.25%\n"
          ]
        },
        {
          "name": "stderr",
          "output_type": "stream",
          "text": [
            "\r 70%|███████   | 7/10 [01:51<00:47, 15.83s/it]"
          ]
        },
        {
          "name": "stdout",
          "output_type": "stream",
          "text": [
            "Epoch 7: Training Loss = 0.3831, Validation Accuracy: 86.02%\n"
          ]
        },
        {
          "name": "stderr",
          "output_type": "stream",
          "text": [
            "\r 80%|████████  | 8/10 [02:06<00:31, 15.66s/it]"
          ]
        },
        {
          "name": "stdout",
          "output_type": "stream",
          "text": [
            "Epoch 8: Training Loss = 0.3703, Validation Accuracy: 83.23%\n"
          ]
        },
        {
          "name": "stderr",
          "output_type": "stream",
          "text": [
            "\r 90%|█████████ | 9/10 [02:22<00:15, 15.76s/it]"
          ]
        },
        {
          "name": "stdout",
          "output_type": "stream",
          "text": [
            "Epoch 9: Training Loss = 0.3579, Validation Accuracy: 86.18%\n"
          ]
        },
        {
          "name": "stderr",
          "output_type": "stream",
          "text": [
            "100%|██████████| 10/10 [02:38<00:00, 15.81s/it]"
          ]
        },
        {
          "name": "stdout",
          "output_type": "stream",
          "text": [
            "Epoch 10: Training Loss = 0.3498, Validation Accuracy: 87.45%\n"
          ]
        },
        {
          "name": "stderr",
          "output_type": "stream",
          "text": [
            "\n",
            " 10%|█         | 1/10 [00:15<02:18, 15.36s/it]"
          ]
        },
        {
          "name": "stdout",
          "output_type": "stream",
          "text": [
            "Epoch 1: Training Loss = 1.3844, Validation Accuracy: 67.17%\n"
          ]
        },
        {
          "name": "stderr",
          "output_type": "stream",
          "text": [
            "\r 20%|██        | 2/10 [00:30<02:03, 15.44s/it]"
          ]
        },
        {
          "name": "stdout",
          "output_type": "stream",
          "text": [
            "Epoch 2: Training Loss = 0.7138, Validation Accuracy: 77.67%\n"
          ]
        },
        {
          "name": "stderr",
          "output_type": "stream",
          "text": [
            "\r 30%|███       | 3/10 [00:47<01:51, 15.87s/it]"
          ]
        },
        {
          "name": "stdout",
          "output_type": "stream",
          "text": [
            "Epoch 3: Training Loss = 0.5811, Validation Accuracy: 81.87%\n"
          ]
        },
        {
          "name": "stderr",
          "output_type": "stream",
          "text": [
            "\r 40%|████      | 4/10 [01:02<01:33, 15.65s/it]"
          ]
        },
        {
          "name": "stdout",
          "output_type": "stream",
          "text": [
            "Epoch 4: Training Loss = 0.5185, Validation Accuracy: 82.68%\n"
          ]
        },
        {
          "name": "stderr",
          "output_type": "stream",
          "text": [
            "\r 50%|█████     | 5/10 [01:17<01:17, 15.52s/it]"
          ]
        },
        {
          "name": "stdout",
          "output_type": "stream",
          "text": [
            "Epoch 5: Training Loss = 0.4766, Validation Accuracy: 80.85%\n"
          ]
        },
        {
          "name": "stderr",
          "output_type": "stream",
          "text": [
            "\r 60%|██████    | 6/10 [01:33<01:01, 15.49s/it]"
          ]
        },
        {
          "name": "stdout",
          "output_type": "stream",
          "text": [
            "Epoch 6: Training Loss = 0.4493, Validation Accuracy: 84.27%\n"
          ]
        },
        {
          "name": "stderr",
          "output_type": "stream",
          "text": [
            "\r 70%|███████   | 7/10 [01:49<00:47, 15.76s/it]"
          ]
        },
        {
          "name": "stdout",
          "output_type": "stream",
          "text": [
            "Epoch 7: Training Loss = 0.4298, Validation Accuracy: 83.85%\n"
          ]
        },
        {
          "name": "stderr",
          "output_type": "stream",
          "text": [
            "\r 80%|████████  | 8/10 [02:04<00:31, 15.62s/it]"
          ]
        },
        {
          "name": "stdout",
          "output_type": "stream",
          "text": [
            "Epoch 8: Training Loss = 0.4133, Validation Accuracy: 85.37%\n"
          ]
        },
        {
          "name": "stderr",
          "output_type": "stream",
          "text": [
            "\r 90%|█████████ | 9/10 [02:20<00:15, 15.46s/it]"
          ]
        },
        {
          "name": "stdout",
          "output_type": "stream",
          "text": [
            "Epoch 9: Training Loss = 0.4026, Validation Accuracy: 85.67%\n"
          ]
        },
        {
          "name": "stderr",
          "output_type": "stream",
          "text": [
            "100%|██████████| 10/10 [02:35<00:00, 15.52s/it]"
          ]
        },
        {
          "name": "stdout",
          "output_type": "stream",
          "text": [
            "Epoch 10: Training Loss = 0.3929, Validation Accuracy: 84.67%\n"
          ]
        },
        {
          "name": "stderr",
          "output_type": "stream",
          "text": [
            "\n",
            " 10%|█         | 1/10 [00:16<02:29, 16.57s/it]"
          ]
        },
        {
          "name": "stdout",
          "output_type": "stream",
          "text": [
            "Epoch 1: Training Loss = 2.1875, Validation Accuracy: 37.35%\n"
          ]
        },
        {
          "name": "stderr",
          "output_type": "stream",
          "text": [
            "\r 20%|██        | 2/10 [00:32<02:07, 15.94s/it]"
          ]
        },
        {
          "name": "stdout",
          "output_type": "stream",
          "text": [
            "Epoch 2: Training Loss = 1.6709, Validation Accuracy: 60.58%\n"
          ]
        },
        {
          "name": "stderr",
          "output_type": "stream",
          "text": [
            "\r 30%|███       | 3/10 [00:47<01:49, 15.60s/it]"
          ]
        },
        {
          "name": "stdout",
          "output_type": "stream",
          "text": [
            "Epoch 3: Training Loss = 1.1142, Validation Accuracy: 66.75%\n"
          ]
        },
        {
          "name": "stderr",
          "output_type": "stream",
          "text": [
            "\r 40%|████      | 4/10 [01:02<01:32, 15.50s/it]"
          ]
        },
        {
          "name": "stdout",
          "output_type": "stream",
          "text": [
            "Epoch 4: Training Loss = 0.9142, Validation Accuracy: 69.77%\n"
          ]
        },
        {
          "name": "stderr",
          "output_type": "stream",
          "text": [
            "\r 50%|█████     | 5/10 [01:18<01:18, 15.79s/it]"
          ]
        },
        {
          "name": "stdout",
          "output_type": "stream",
          "text": [
            "Epoch 5: Training Loss = 0.8141, Validation Accuracy: 73.28%\n"
          ]
        },
        {
          "name": "stderr",
          "output_type": "stream",
          "text": [
            "\r 60%|██████    | 6/10 [01:34<01:02, 15.61s/it]"
          ]
        },
        {
          "name": "stdout",
          "output_type": "stream",
          "text": [
            "Epoch 6: Training Loss = 0.7449, Validation Accuracy: 75.72%\n"
          ]
        },
        {
          "name": "stderr",
          "output_type": "stream",
          "text": [
            "\r 70%|███████   | 7/10 [01:49<00:46, 15.51s/it]"
          ]
        },
        {
          "name": "stdout",
          "output_type": "stream",
          "text": [
            "Epoch 7: Training Loss = 0.6924, Validation Accuracy: 77.22%\n"
          ]
        },
        {
          "name": "stderr",
          "output_type": "stream",
          "text": [
            "\r 80%|████████  | 8/10 [02:04<00:30, 15.43s/it]"
          ]
        },
        {
          "name": "stdout",
          "output_type": "stream",
          "text": [
            "Epoch 8: Training Loss = 0.6468, Validation Accuracy: 78.38%\n"
          ]
        },
        {
          "name": "stderr",
          "output_type": "stream",
          "text": [
            "\r 90%|█████████ | 9/10 [02:20<00:15, 15.50s/it]"
          ]
        },
        {
          "name": "stdout",
          "output_type": "stream",
          "text": [
            "Epoch 9: Training Loss = 0.6095, Validation Accuracy: 79.78%\n"
          ]
        },
        {
          "name": "stderr",
          "output_type": "stream",
          "text": [
            "100%|██████████| 10/10 [02:36<00:00, 15.64s/it]"
          ]
        },
        {
          "name": "stdout",
          "output_type": "stream",
          "text": [
            "Epoch 10: Training Loss = 0.5796, Validation Accuracy: 81.07%\n"
          ]
        },
        {
          "name": "stderr",
          "output_type": "stream",
          "text": [
            "\n",
            " 10%|█         | 1/10 [00:15<02:17, 15.31s/it]"
          ]
        },
        {
          "name": "stdout",
          "output_type": "stream",
          "text": [
            "Epoch 1: Training Loss = 2.2583, Validation Accuracy: 25.82%\n"
          ]
        },
        {
          "name": "stderr",
          "output_type": "stream",
          "text": [
            "\r 20%|██        | 2/10 [00:30<02:01, 15.23s/it]"
          ]
        },
        {
          "name": "stdout",
          "output_type": "stream",
          "text": [
            "Epoch 2: Training Loss = 2.1209, Validation Accuracy: 57.37%\n"
          ]
        },
        {
          "name": "stderr",
          "output_type": "stream",
          "text": [
            "\r 30%|███       | 3/10 [00:46<01:48, 15.52s/it]"
          ]
        },
        {
          "name": "stdout",
          "output_type": "stream",
          "text": [
            "Epoch 3: Training Loss = 1.8381, Validation Accuracy: 61.38%\n"
          ]
        },
        {
          "name": "stderr",
          "output_type": "stream",
          "text": [
            "\r 40%|████      | 4/10 [01:01<01:32, 15.40s/it]"
          ]
        },
        {
          "name": "stdout",
          "output_type": "stream",
          "text": [
            "Epoch 4: Training Loss = 1.4553, Validation Accuracy: 64.83%\n"
          ]
        },
        {
          "name": "stderr",
          "output_type": "stream",
          "text": [
            "\r 50%|█████     | 5/10 [01:17<01:17, 15.41s/it]"
          ]
        },
        {
          "name": "stdout",
          "output_type": "stream",
          "text": [
            "Epoch 5: Training Loss = 1.1711, Validation Accuracy: 65.95%\n"
          ]
        },
        {
          "name": "stderr",
          "output_type": "stream",
          "text": [
            "\r 60%|██████    | 6/10 [01:32<01:01, 15.35s/it]"
          ]
        },
        {
          "name": "stdout",
          "output_type": "stream",
          "text": [
            "Epoch 6: Training Loss = 1.0035, Validation Accuracy: 68.52%\n"
          ]
        },
        {
          "name": "stderr",
          "output_type": "stream",
          "text": [
            "\r 70%|███████   | 7/10 [01:47<00:45, 15.30s/it]"
          ]
        },
        {
          "name": "stdout",
          "output_type": "stream",
          "text": [
            "Epoch 7: Training Loss = 0.9051, Validation Accuracy: 69.42%\n"
          ]
        },
        {
          "name": "stderr",
          "output_type": "stream",
          "text": [
            "\r 80%|████████  | 8/10 [02:03<00:31, 15.51s/it]"
          ]
        },
        {
          "name": "stdout",
          "output_type": "stream",
          "text": [
            "Epoch 8: Training Loss = 0.8422, Validation Accuracy: 70.05%\n"
          ]
        },
        {
          "name": "stderr",
          "output_type": "stream",
          "text": [
            "\r 90%|█████████ | 9/10 [02:18<00:15, 15.49s/it]"
          ]
        },
        {
          "name": "stdout",
          "output_type": "stream",
          "text": [
            "Epoch 9: Training Loss = 0.7981, Validation Accuracy: 71.78%\n"
          ]
        },
        {
          "name": "stderr",
          "output_type": "stream",
          "text": [
            "100%|██████████| 10/10 [02:34<00:00, 15.46s/it]"
          ]
        },
        {
          "name": "stdout",
          "output_type": "stream",
          "text": [
            "Epoch 10: Training Loss = 0.7647, Validation Accuracy: 73.20%\n"
          ]
        },
        {
          "name": "stderr",
          "output_type": "stream",
          "text": [
            "\n",
            " 10%|█         | 1/10 [00:16<02:25, 16.11s/it]"
          ]
        },
        {
          "name": "stdout",
          "output_type": "stream",
          "text": [
            "Epoch 1: Training Loss = 13.3309, Validation Accuracy: 27.95%\n"
          ]
        },
        {
          "name": "stderr",
          "output_type": "stream",
          "text": [
            "\r 20%|██        | 2/10 [00:34<02:20, 17.60s/it]"
          ]
        },
        {
          "name": "stdout",
          "output_type": "stream",
          "text": [
            "Epoch 2: Training Loss = 1.7480, Validation Accuracy: 29.70%\n"
          ]
        },
        {
          "name": "stderr",
          "output_type": "stream",
          "text": [
            "\r 30%|███       | 3/10 [00:50<01:56, 16.66s/it]"
          ]
        },
        {
          "name": "stdout",
          "output_type": "stream",
          "text": [
            "Epoch 3: Training Loss = 1.9922, Validation Accuracy: 21.47%\n"
          ]
        },
        {
          "name": "stderr",
          "output_type": "stream",
          "text": [
            "\r 40%|████      | 4/10 [01:05<01:36, 16.13s/it]"
          ]
        },
        {
          "name": "stdout",
          "output_type": "stream",
          "text": [
            "Epoch 4: Training Loss = 1.9435, Validation Accuracy: 21.87%\n"
          ]
        },
        {
          "name": "stderr",
          "output_type": "stream",
          "text": [
            "\r 50%|█████     | 5/10 [01:21<01:20, 16.17s/it]"
          ]
        },
        {
          "name": "stdout",
          "output_type": "stream",
          "text": [
            "Epoch 5: Training Loss = 2.0342, Validation Accuracy: 17.30%\n"
          ]
        },
        {
          "name": "stderr",
          "output_type": "stream",
          "text": [
            "\r 60%|██████    | 6/10 [01:37<01:04, 16.00s/it]"
          ]
        },
        {
          "name": "stdout",
          "output_type": "stream",
          "text": [
            "Epoch 6: Training Loss = 1.9706, Validation Accuracy: 19.65%\n"
          ]
        },
        {
          "name": "stderr",
          "output_type": "stream",
          "text": [
            "\r 70%|███████   | 7/10 [01:53<00:47, 15.85s/it]"
          ]
        },
        {
          "name": "stdout",
          "output_type": "stream",
          "text": [
            "Epoch 7: Training Loss = 1.9961, Validation Accuracy: 20.03%\n"
          ]
        },
        {
          "name": "stderr",
          "output_type": "stream",
          "text": [
            "\r 80%|████████  | 8/10 [02:08<00:31, 15.82s/it]"
          ]
        },
        {
          "name": "stdout",
          "output_type": "stream",
          "text": [
            "Epoch 8: Training Loss = 1.9276, Validation Accuracy: 18.62%\n"
          ]
        },
        {
          "name": "stderr",
          "output_type": "stream",
          "text": [
            "\r 90%|█████████ | 9/10 [02:25<00:16, 16.03s/it]"
          ]
        },
        {
          "name": "stdout",
          "output_type": "stream",
          "text": [
            "Epoch 9: Training Loss = 1.9806, Validation Accuracy: 19.10%\n"
          ]
        },
        {
          "name": "stderr",
          "output_type": "stream",
          "text": [
            "100%|██████████| 10/10 [02:40<00:00, 16.09s/it]"
          ]
        },
        {
          "name": "stdout",
          "output_type": "stream",
          "text": [
            "Epoch 10: Training Loss = 2.2559, Validation Accuracy: 11.10%\n"
          ]
        },
        {
          "name": "stderr",
          "output_type": "stream",
          "text": [
            "\n",
            " 10%|█         | 1/10 [00:15<02:17, 15.31s/it]"
          ]
        },
        {
          "name": "stdout",
          "output_type": "stream",
          "text": [
            "Epoch 1: Training Loss = 2.6230, Validation Accuracy: 71.02%\n"
          ]
        },
        {
          "name": "stderr",
          "output_type": "stream",
          "text": [
            "\r 20%|██        | 2/10 [00:31<02:04, 15.58s/it]"
          ]
        },
        {
          "name": "stdout",
          "output_type": "stream",
          "text": [
            "Epoch 2: Training Loss = 0.7076, Validation Accuracy: 77.80%\n"
          ]
        },
        {
          "name": "stderr",
          "output_type": "stream",
          "text": [
            "\r 30%|███       | 3/10 [00:46<01:49, 15.58s/it]"
          ]
        },
        {
          "name": "stdout",
          "output_type": "stream",
          "text": [
            "Epoch 3: Training Loss = 0.5922, Validation Accuracy: 79.37%\n"
          ]
        },
        {
          "name": "stderr",
          "output_type": "stream",
          "text": [
            "\r 40%|████      | 4/10 [01:02<01:33, 15.54s/it]"
          ]
        },
        {
          "name": "stdout",
          "output_type": "stream",
          "text": [
            "Epoch 4: Training Loss = 0.5851, Validation Accuracy: 81.45%\n"
          ]
        },
        {
          "name": "stderr",
          "output_type": "stream",
          "text": [
            "\r 50%|█████     | 5/10 [01:17<01:17, 15.49s/it]"
          ]
        },
        {
          "name": "stdout",
          "output_type": "stream",
          "text": [
            "Epoch 5: Training Loss = 0.5480, Validation Accuracy: 80.68%\n"
          ]
        },
        {
          "name": "stderr",
          "output_type": "stream",
          "text": [
            "\r 60%|██████    | 6/10 [01:33<01:02, 15.62s/it]"
          ]
        },
        {
          "name": "stdout",
          "output_type": "stream",
          "text": [
            "Epoch 6: Training Loss = 0.5374, Validation Accuracy: 82.17%\n"
          ]
        },
        {
          "name": "stderr",
          "output_type": "stream",
          "text": [
            "\r 70%|███████   | 7/10 [01:49<00:47, 15.76s/it]"
          ]
        },
        {
          "name": "stdout",
          "output_type": "stream",
          "text": [
            "Epoch 7: Training Loss = 0.5522, Validation Accuracy: 83.22%\n"
          ]
        },
        {
          "name": "stderr",
          "output_type": "stream",
          "text": [
            "\r 80%|████████  | 8/10 [02:05<00:31, 15.69s/it]"
          ]
        },
        {
          "name": "stdout",
          "output_type": "stream",
          "text": [
            "Epoch 8: Training Loss = 0.5173, Validation Accuracy: 83.18%\n"
          ]
        },
        {
          "name": "stderr",
          "output_type": "stream",
          "text": [
            "\r 90%|█████████ | 9/10 [02:20<00:15, 15.62s/it]"
          ]
        },
        {
          "name": "stdout",
          "output_type": "stream",
          "text": [
            "Epoch 9: Training Loss = 0.5308, Validation Accuracy: 81.72%\n"
          ]
        },
        {
          "name": "stderr",
          "output_type": "stream",
          "text": [
            "100%|██████████| 10/10 [02:35<00:00, 15.59s/it]"
          ]
        },
        {
          "name": "stdout",
          "output_type": "stream",
          "text": [
            "Epoch 10: Training Loss = 0.5265, Validation Accuracy: 78.62%\n"
          ]
        },
        {
          "name": "stderr",
          "output_type": "stream",
          "text": [
            "\n",
            " 10%|█         | 1/10 [00:15<02:18, 15.37s/it]"
          ]
        },
        {
          "name": "stdout",
          "output_type": "stream",
          "text": [
            "Epoch 1: Training Loss = 0.6378, Validation Accuracy: 85.28%\n"
          ]
        },
        {
          "name": "stderr",
          "output_type": "stream",
          "text": [
            "\r 20%|██        | 2/10 [00:30<02:03, 15.38s/it]"
          ]
        },
        {
          "name": "stdout",
          "output_type": "stream",
          "text": [
            "Epoch 2: Training Loss = 0.3828, Validation Accuracy: 86.37%\n"
          ]
        },
        {
          "name": "stderr",
          "output_type": "stream",
          "text": [
            "\r 30%|███       | 3/10 [00:46<01:47, 15.35s/it]"
          ]
        },
        {
          "name": "stdout",
          "output_type": "stream",
          "text": [
            "Epoch 3: Training Loss = 0.3444, Validation Accuracy: 87.85%\n"
          ]
        },
        {
          "name": "stderr",
          "output_type": "stream",
          "text": [
            "\r 40%|████      | 4/10 [01:02<01:33, 15.63s/it]"
          ]
        },
        {
          "name": "stdout",
          "output_type": "stream",
          "text": [
            "Epoch 4: Training Loss = 0.3254, Validation Accuracy: 87.27%\n"
          ]
        },
        {
          "name": "stderr",
          "output_type": "stream",
          "text": [
            "\r 50%|█████     | 5/10 [01:18<01:18, 15.78s/it]"
          ]
        },
        {
          "name": "stdout",
          "output_type": "stream",
          "text": [
            "Epoch 5: Training Loss = 0.3112, Validation Accuracy: 87.45%\n"
          ]
        },
        {
          "name": "stderr",
          "output_type": "stream",
          "text": [
            "\r 60%|██████    | 6/10 [01:33<01:02, 15.66s/it]"
          ]
        },
        {
          "name": "stdout",
          "output_type": "stream",
          "text": [
            "Epoch 6: Training Loss = 0.2984, Validation Accuracy: 87.23%\n"
          ]
        },
        {
          "name": "stderr",
          "output_type": "stream",
          "text": [
            "\r 70%|███████   | 7/10 [01:48<00:46, 15.56s/it]"
          ]
        },
        {
          "name": "stdout",
          "output_type": "stream",
          "text": [
            "Epoch 7: Training Loss = 0.2964, Validation Accuracy: 87.88%\n"
          ]
        },
        {
          "name": "stderr",
          "output_type": "stream",
          "text": [
            "\r 80%|████████  | 8/10 [02:04<00:31, 15.61s/it]"
          ]
        },
        {
          "name": "stdout",
          "output_type": "stream",
          "text": [
            "Epoch 8: Training Loss = 0.2772, Validation Accuracy: 88.10%\n"
          ]
        },
        {
          "name": "stderr",
          "output_type": "stream",
          "text": [
            "\r 90%|█████████ | 9/10 [02:21<00:15, 15.84s/it]"
          ]
        },
        {
          "name": "stdout",
          "output_type": "stream",
          "text": [
            "Epoch 9: Training Loss = 0.2715, Validation Accuracy: 88.32%\n"
          ]
        },
        {
          "name": "stderr",
          "output_type": "stream",
          "text": [
            "100%|██████████| 10/10 [02:36<00:00, 15.64s/it]"
          ]
        },
        {
          "name": "stdout",
          "output_type": "stream",
          "text": [
            "Epoch 10: Training Loss = 0.2687, Validation Accuracy: 87.32%\n"
          ]
        },
        {
          "name": "stderr",
          "output_type": "stream",
          "text": [
            "\n",
            " 10%|█         | 1/10 [00:15<02:18, 15.42s/it]"
          ]
        },
        {
          "name": "stdout",
          "output_type": "stream",
          "text": [
            "Epoch 1: Training Loss = 0.5819, Validation Accuracy: 85.77%\n"
          ]
        },
        {
          "name": "stderr",
          "output_type": "stream",
          "text": [
            "\r 20%|██        | 2/10 [00:31<02:06, 15.86s/it]"
          ]
        },
        {
          "name": "stdout",
          "output_type": "stream",
          "text": [
            "Epoch 2: Training Loss = 0.3648, Validation Accuracy: 86.90%\n"
          ]
        },
        {
          "name": "stderr",
          "output_type": "stream",
          "text": [
            "\r 30%|███       | 3/10 [00:47<01:49, 15.70s/it]"
          ]
        },
        {
          "name": "stdout",
          "output_type": "stream",
          "text": [
            "Epoch 3: Training Loss = 0.3289, Validation Accuracy: 87.62%\n"
          ]
        },
        {
          "name": "stderr",
          "output_type": "stream",
          "text": [
            "\r 40%|████      | 4/10 [01:02<01:33, 15.53s/it]"
          ]
        },
        {
          "name": "stdout",
          "output_type": "stream",
          "text": [
            "Epoch 4: Training Loss = 0.3122, Validation Accuracy: 88.22%\n"
          ]
        },
        {
          "name": "stderr",
          "output_type": "stream",
          "text": [
            "\r 50%|█████     | 5/10 [01:17<01:17, 15.49s/it]"
          ]
        },
        {
          "name": "stdout",
          "output_type": "stream",
          "text": [
            "Epoch 5: Training Loss = 0.2887, Validation Accuracy: 88.48%\n"
          ]
        },
        {
          "name": "stderr",
          "output_type": "stream",
          "text": [
            "\r 60%|██████    | 6/10 [01:33<01:02, 15.60s/it]"
          ]
        },
        {
          "name": "stdout",
          "output_type": "stream",
          "text": [
            "Epoch 6: Training Loss = 0.2801, Validation Accuracy: 88.27%\n"
          ]
        },
        {
          "name": "stderr",
          "output_type": "stream",
          "text": [
            "\r 70%|███████   | 7/10 [01:49<00:47, 15.70s/it]"
          ]
        },
        {
          "name": "stdout",
          "output_type": "stream",
          "text": [
            "Epoch 7: Training Loss = 0.2713, Validation Accuracy: 88.83%\n"
          ]
        },
        {
          "name": "stderr",
          "output_type": "stream",
          "text": [
            "\r 80%|████████  | 8/10 [02:04<00:31, 15.56s/it]"
          ]
        },
        {
          "name": "stdout",
          "output_type": "stream",
          "text": [
            "Epoch 8: Training Loss = 0.2594, Validation Accuracy: 88.90%\n"
          ]
        },
        {
          "name": "stderr",
          "output_type": "stream",
          "text": [
            "\r 90%|█████████ | 9/10 [02:20<00:15, 15.47s/it]"
          ]
        },
        {
          "name": "stdout",
          "output_type": "stream",
          "text": [
            "Epoch 9: Training Loss = 0.2480, Validation Accuracy: 88.78%\n"
          ]
        },
        {
          "name": "stderr",
          "output_type": "stream",
          "text": [
            "100%|██████████| 10/10 [02:35<00:00, 15.53s/it]"
          ]
        },
        {
          "name": "stdout",
          "output_type": "stream",
          "text": [
            "Epoch 10: Training Loss = 0.2391, Validation Accuracy: 89.28%\n"
          ]
        },
        {
          "name": "stderr",
          "output_type": "stream",
          "text": [
            "\n",
            " 10%|█         | 1/10 [00:15<02:18, 15.34s/it]"
          ]
        },
        {
          "name": "stdout",
          "output_type": "stream",
          "text": [
            "Epoch 1: Training Loss = 90820.0617, Validation Accuracy: 27.15%\n"
          ]
        },
        {
          "name": "stderr",
          "output_type": "stream",
          "text": [
            "\r 20%|██        | 2/10 [00:30<02:02, 15.36s/it]"
          ]
        },
        {
          "name": "stdout",
          "output_type": "stream",
          "text": [
            "Epoch 2: Training Loss = 26.9132, Validation Accuracy: 25.68%\n"
          ]
        },
        {
          "name": "stderr",
          "output_type": "stream",
          "text": [
            "\r 30%|███       | 3/10 [00:46<01:47, 15.36s/it]"
          ]
        },
        {
          "name": "stdout",
          "output_type": "stream",
          "text": [
            "Epoch 3: Training Loss = 10.8363, Validation Accuracy: 25.80%\n"
          ]
        },
        {
          "name": "stderr",
          "output_type": "stream",
          "text": [
            "\r 40%|████      | 4/10 [01:01<01:33, 15.55s/it]"
          ]
        },
        {
          "name": "stdout",
          "output_type": "stream",
          "text": [
            "Epoch 4: Training Loss = 7.3932, Validation Accuracy: 21.97%\n"
          ]
        },
        {
          "name": "stderr",
          "output_type": "stream",
          "text": [
            "\r 50%|█████     | 5/10 [01:17<01:18, 15.61s/it]"
          ]
        },
        {
          "name": "stdout",
          "output_type": "stream",
          "text": [
            "Epoch 5: Training Loss = 2.3447, Validation Accuracy: 22.90%\n"
          ]
        },
        {
          "name": "stderr",
          "output_type": "stream",
          "text": [
            "\r 60%|██████    | 6/10 [01:32<01:02, 15.51s/it]"
          ]
        },
        {
          "name": "stdout",
          "output_type": "stream",
          "text": [
            "Epoch 6: Training Loss = 2.1818, Validation Accuracy: 23.02%\n"
          ]
        },
        {
          "name": "stderr",
          "output_type": "stream",
          "text": [
            "\r 70%|███████   | 7/10 [01:48<00:46, 15.48s/it]"
          ]
        },
        {
          "name": "stdout",
          "output_type": "stream",
          "text": [
            "Epoch 7: Training Loss = 2.1350, Validation Accuracy: 23.07%\n"
          ]
        },
        {
          "name": "stderr",
          "output_type": "stream",
          "text": [
            "\r 80%|████████  | 8/10 [02:03<00:30, 15.46s/it]"
          ]
        },
        {
          "name": "stdout",
          "output_type": "stream",
          "text": [
            "Epoch 8: Training Loss = 2.0426, Validation Accuracy: 24.97%\n"
          ]
        },
        {
          "name": "stderr",
          "output_type": "stream",
          "text": [
            "\r 90%|█████████ | 9/10 [02:20<00:15, 15.71s/it]"
          ]
        },
        {
          "name": "stdout",
          "output_type": "stream",
          "text": [
            "Epoch 9: Training Loss = 2.0760, Validation Accuracy: 22.73%\n"
          ]
        },
        {
          "name": "stderr",
          "output_type": "stream",
          "text": [
            "100%|██████████| 10/10 [02:35<00:00, 15.57s/it]"
          ]
        },
        {
          "name": "stdout",
          "output_type": "stream",
          "text": [
            "Epoch 10: Training Loss = 2.0353, Validation Accuracy: 25.57%\n"
          ]
        },
        {
          "name": "stderr",
          "output_type": "stream",
          "text": [
            "\n",
            " 10%|█         | 1/10 [00:15<02:18, 15.35s/it]"
          ]
        },
        {
          "name": "stdout",
          "output_type": "stream",
          "text": [
            "Epoch 1: Training Loss = 4893.1038, Validation Accuracy: 52.30%\n"
          ]
        },
        {
          "name": "stderr",
          "output_type": "stream",
          "text": [
            "\r 20%|██        | 2/10 [00:31<02:06, 15.76s/it]"
          ]
        },
        {
          "name": "stdout",
          "output_type": "stream",
          "text": [
            "Epoch 2: Training Loss = 3.4900, Validation Accuracy: 49.88%\n"
          ]
        },
        {
          "name": "stderr",
          "output_type": "stream",
          "text": [
            "\r 30%|███       | 3/10 [00:46<01:49, 15.68s/it]"
          ]
        },
        {
          "name": "stdout",
          "output_type": "stream",
          "text": [
            "Epoch 3: Training Loss = 2.2873, Validation Accuracy: 44.60%\n"
          ]
        },
        {
          "name": "stderr",
          "output_type": "stream",
          "text": [
            "\r 40%|████      | 4/10 [01:02<01:33, 15.59s/it]"
          ]
        },
        {
          "name": "stdout",
          "output_type": "stream",
          "text": [
            "Epoch 4: Training Loss = 1.8547, Validation Accuracy: 46.63%\n"
          ]
        },
        {
          "name": "stderr",
          "output_type": "stream",
          "text": [
            "\r 50%|█████     | 5/10 [01:17<01:17, 15.57s/it]"
          ]
        },
        {
          "name": "stdout",
          "output_type": "stream",
          "text": [
            "Epoch 5: Training Loss = 1.5898, Validation Accuracy: 45.08%\n"
          ]
        },
        {
          "name": "stderr",
          "output_type": "stream",
          "text": [
            "\r 60%|██████    | 6/10 [01:33<01:02, 15.59s/it]"
          ]
        },
        {
          "name": "stdout",
          "output_type": "stream",
          "text": [
            "Epoch 6: Training Loss = 2.1915, Validation Accuracy: 39.47%\n"
          ]
        },
        {
          "name": "stderr",
          "output_type": "stream",
          "text": [
            "\r 70%|███████   | 7/10 [01:49<00:47, 15.71s/it]"
          ]
        },
        {
          "name": "stdout",
          "output_type": "stream",
          "text": [
            "Epoch 7: Training Loss = 2.0585, Validation Accuracy: 37.62%\n"
          ]
        },
        {
          "name": "stderr",
          "output_type": "stream",
          "text": [
            "\r 80%|████████  | 8/10 [02:04<00:31, 15.59s/it]"
          ]
        },
        {
          "name": "stdout",
          "output_type": "stream",
          "text": [
            "Epoch 8: Training Loss = 220.2777, Validation Accuracy: 32.77%\n"
          ]
        },
        {
          "name": "stderr",
          "output_type": "stream",
          "text": [
            "\r 90%|█████████ | 9/10 [02:20<00:15, 15.55s/it]"
          ]
        },
        {
          "name": "stdout",
          "output_type": "stream",
          "text": [
            "Epoch 9: Training Loss = 2.1522, Validation Accuracy: 35.08%\n"
          ]
        },
        {
          "name": "stderr",
          "output_type": "stream",
          "text": [
            "100%|██████████| 10/10 [02:35<00:00, 15.57s/it]"
          ]
        },
        {
          "name": "stdout",
          "output_type": "stream",
          "text": [
            "Epoch 10: Training Loss = 1.8397, Validation Accuracy: 34.65%\n"
          ]
        },
        {
          "name": "stderr",
          "output_type": "stream",
          "text": [
            "\n",
            " 10%|█         | 1/10 [00:15<02:19, 15.50s/it]"
          ]
        },
        {
          "name": "stdout",
          "output_type": "stream",
          "text": [
            "Epoch 1: Training Loss = 16.2335, Validation Accuracy: 78.68%\n"
          ]
        },
        {
          "name": "stderr",
          "output_type": "stream",
          "text": [
            "\r 20%|██        | 2/10 [00:31<02:05, 15.65s/it]"
          ]
        },
        {
          "name": "stdout",
          "output_type": "stream",
          "text": [
            "Epoch 2: Training Loss = 0.5451, Validation Accuracy: 80.92%\n"
          ]
        },
        {
          "name": "stderr",
          "output_type": "stream",
          "text": [
            "\r 30%|███       | 3/10 [00:46<01:49, 15.63s/it]"
          ]
        },
        {
          "name": "stdout",
          "output_type": "stream",
          "text": [
            "Epoch 3: Training Loss = 0.5038, Validation Accuracy: 80.63%\n"
          ]
        },
        {
          "name": "stderr",
          "output_type": "stream",
          "text": [
            "\r 40%|████      | 4/10 [01:03<01:35, 15.93s/it]"
          ]
        },
        {
          "name": "stdout",
          "output_type": "stream",
          "text": [
            "Epoch 4: Training Loss = 0.5006, Validation Accuracy: 55.58%\n"
          ]
        },
        {
          "name": "stderr",
          "output_type": "stream",
          "text": [
            "\r 50%|█████     | 5/10 [01:18<01:18, 15.75s/it]"
          ]
        },
        {
          "name": "stdout",
          "output_type": "stream",
          "text": [
            "Epoch 5: Training Loss = 0.6617, Validation Accuracy: 83.32%\n"
          ]
        },
        {
          "name": "stderr",
          "output_type": "stream",
          "text": [
            "\r 60%|██████    | 6/10 [01:33<01:02, 15.57s/it]"
          ]
        },
        {
          "name": "stdout",
          "output_type": "stream",
          "text": [
            "Epoch 6: Training Loss = 0.4547, Validation Accuracy: 84.75%\n"
          ]
        },
        {
          "name": "stderr",
          "output_type": "stream",
          "text": [
            "\r 70%|███████   | 7/10 [01:49<00:46, 15.46s/it]"
          ]
        },
        {
          "name": "stdout",
          "output_type": "stream",
          "text": [
            "Epoch 7: Training Loss = 0.4841, Validation Accuracy: 80.42%\n"
          ]
        },
        {
          "name": "stderr",
          "output_type": "stream",
          "text": [
            "\r 80%|████████  | 8/10 [02:04<00:31, 15.59s/it]"
          ]
        },
        {
          "name": "stdout",
          "output_type": "stream",
          "text": [
            "Epoch 8: Training Loss = 0.6217, Validation Accuracy: 59.28%\n"
          ]
        },
        {
          "name": "stderr",
          "output_type": "stream",
          "text": [
            "\r 90%|█████████ | 9/10 [02:21<00:15, 15.73s/it]"
          ]
        },
        {
          "name": "stdout",
          "output_type": "stream",
          "text": [
            "Epoch 9: Training Loss = 0.5032, Validation Accuracy: 80.92%\n"
          ]
        },
        {
          "name": "stderr",
          "output_type": "stream",
          "text": [
            "100%|██████████| 10/10 [02:36<00:00, 15.66s/it]"
          ]
        },
        {
          "name": "stdout",
          "output_type": "stream",
          "text": [
            "Epoch 10: Training Loss = 0.4006, Validation Accuracy: 83.50%\n"
          ]
        },
        {
          "name": "stderr",
          "output_type": "stream",
          "text": [
            "\n",
            " 10%|█         | 1/10 [00:15<02:18, 15.34s/it]"
          ]
        },
        {
          "name": "stdout",
          "output_type": "stream",
          "text": [
            "Epoch 1: Training Loss = 2.7297, Validation Accuracy: 80.77%\n"
          ]
        },
        {
          "name": "stderr",
          "output_type": "stream",
          "text": [
            "\r 20%|██        | 2/10 [00:31<02:06, 15.79s/it]"
          ]
        },
        {
          "name": "stdout",
          "output_type": "stream",
          "text": [
            "Epoch 2: Training Loss = 0.4986, Validation Accuracy: 83.12%\n"
          ]
        },
        {
          "name": "stderr",
          "output_type": "stream",
          "text": [
            "\r 30%|███       | 3/10 [00:46<01:49, 15.58s/it]"
          ]
        },
        {
          "name": "stdout",
          "output_type": "stream",
          "text": [
            "Epoch 3: Training Loss = 0.4570, Validation Accuracy: 82.63%\n"
          ]
        },
        {
          "name": "stderr",
          "output_type": "stream",
          "text": [
            "\r 40%|████      | 4/10 [01:02<01:32, 15.47s/it]"
          ]
        },
        {
          "name": "stdout",
          "output_type": "stream",
          "text": [
            "Epoch 4: Training Loss = 0.4278, Validation Accuracy: 78.77%\n"
          ]
        },
        {
          "name": "stderr",
          "output_type": "stream",
          "text": [
            "\r 50%|█████     | 5/10 [01:17<01:17, 15.44s/it]"
          ]
        },
        {
          "name": "stdout",
          "output_type": "stream",
          "text": [
            "Epoch 5: Training Loss = 0.3888, Validation Accuracy: 75.67%\n"
          ]
        },
        {
          "name": "stderr",
          "output_type": "stream",
          "text": [
            "\r 60%|██████    | 6/10 [01:33<01:02, 15.52s/it]"
          ]
        },
        {
          "name": "stdout",
          "output_type": "stream",
          "text": [
            "Epoch 6: Training Loss = 0.3809, Validation Accuracy: 84.08%\n"
          ]
        },
        {
          "name": "stderr",
          "output_type": "stream",
          "text": [
            "\r 70%|███████   | 7/10 [01:48<00:46, 15.61s/it]"
          ]
        },
        {
          "name": "stdout",
          "output_type": "stream",
          "text": [
            "Epoch 7: Training Loss = 0.3665, Validation Accuracy: 86.52%\n"
          ]
        },
        {
          "name": "stderr",
          "output_type": "stream",
          "text": [
            "\r 80%|████████  | 8/10 [02:04<00:31, 15.54s/it]"
          ]
        },
        {
          "name": "stdout",
          "output_type": "stream",
          "text": [
            "Epoch 8: Training Loss = 0.3646, Validation Accuracy: 87.08%\n"
          ]
        },
        {
          "name": "stderr",
          "output_type": "stream",
          "text": [
            "\r 90%|█████████ | 9/10 [02:19<00:15, 15.51s/it]"
          ]
        },
        {
          "name": "stdout",
          "output_type": "stream",
          "text": [
            "Epoch 9: Training Loss = 0.3506, Validation Accuracy: 81.32%\n"
          ]
        },
        {
          "name": "stderr",
          "output_type": "stream",
          "text": [
            "100%|██████████| 10/10 [02:35<00:00, 15.52s/it]"
          ]
        },
        {
          "name": "stdout",
          "output_type": "stream",
          "text": [
            "Epoch 10: Training Loss = 0.3267, Validation Accuracy: 85.38%\n"
          ]
        },
        {
          "name": "stderr",
          "output_type": "stream",
          "text": [
            "\n"
          ]
        },
        {
          "data": {
            "image/png": "[encoded data removed]",
            "text/plain": [
              "<Figure size 1200x800 with 1 Axes>"
            ]
          },
          "metadata": {},
          "output_type": "display_data"
        }
      ],
      "source": [
        "# Define optimizers to test\n",
        "optimizers = {\n",
        "    \"SGD\": torch.optim.SGD,\n",
        "    \"Adam\": torch.optim.Adam,\n",
        "    \"RMSprop\": torch.optim.RMSprop\n",
        "}\n",
        "\n",
        "# Define learning rates to test\n",
        "learning_rates = [0.1, 0.05, 0.01, 0.005]\n",
        "\n",
        "# Store results for comparison\n",
        "results = {}\n",
        "\n",
        "# Iterate over optimizers and learning rates\n",
        "for opt_name, opt_func in optimizers.items():\n",
        "    for lr in learning_rates:\n",
        "        train_loss_list, val_acc_list, test_acc = FCN_accuracy(\n",
        "            batchSize=512, test_batch_size=256,\n",
        "            epochs=10,\n",
        "            hidden_dim=[100, 200, 180],\n",
        "            learning_rate=lr, optimizer=opt_func, dropout=0\n",
        "        )\n",
        "\n",
        "        # Store results\n",
        "        results[(opt_name, lr)] = {\n",
        "            \"train_loss\": train_loss_list,\n",
        "            \"val_acc\": val_acc_list,\n",
        "            \"test_acc\": test_acc\n",
        "        }\n",
        "\n",
        "# Plot results for comparison\n",
        "plt.figure(figsize=(12, 8))\n",
        "\n",
        "for (opt_name, lr), result in results.items():\n",
        "    plt.plot(result[\"val_acc\"], label=f\"{opt_name} - LR: {lr}\")\n",
        "\n",
        "plt.xlabel(\"Epochs\")\n",
        "plt.ylabel(\"Validation Accuracy\")\n",
        "plt.title(\"Comparison of Optimizers and Learning Rates\")\n",
        "plt.legend()\n",
        "plt.show()"
      ]
    },
    {
      "cell_type": "code",
      "execution_count": null,
      "metadata": {
        "colab": {
          "base_uri": "https://localhost:8080/"
        },
        "id": "tlnggMBzLxUq",
        "outputId": "f0b44876-0533-4fb6-aa3a-fe31616fe310"
      },
      "outputs": [
        {
          "name": "stdout",
          "output_type": "stream",
          "text": [
            "SGD with 0.1:  86.04\n",
            "SGD with 0.05:  83.88\n",
            "SGD with 0.01:  79.79\n",
            "SGD with 0.005:  71.8\n",
            "Adam with 0.1:  11.15\n",
            "Adam with 0.05:  77.53\n",
            "Adam with 0.01:  86.45\n",
            "Adam with 0.005:  88.12\n",
            "RMSprop with 0.1:  24.86\n",
            "RMSprop with 0.05:  33.85\n",
            "RMSprop with 0.01:  82.07\n",
            "RMSprop with 0.005:  83.83\n"
          ]
        }
      ],
      "source": [
        "for opt_name, opt_func in optimizers.items():\n",
        "  for lr in learning_rates:\n",
        "    print(f'{opt_name} with {lr}:  {results[(opt_name, lr)][\"test_acc\"]}')"
      ]
    },
    {
      "cell_type": "code",
      "execution_count": null,
      "metadata": {
        "colab": {
          "background_save": true,
          "base_uri": "https://localhost:8080/"
        },
        "id": "0NYDKrE9S0KB",
        "outputId": "37b08dcc-d730-467c-cccf-608a43d53305"
      },
      "outputs": [
        {
          "name": "stderr",
          "output_type": "stream",
          "text": [
            " 10%|█         | 1/10 [00:16<02:25, 16.20s/it]"
          ]
        },
        {
          "name": "stdout",
          "output_type": "stream",
          "text": [
            "Epoch 1: Training Loss = 0.6165, Validation Accuracy: 85.17%\n"
          ]
        },
        {
          "name": "stderr",
          "output_type": "stream",
          "text": [
            "\r 20%|██        | 2/10 [00:32<02:11, 16.42s/it]"
          ]
        },
        {
          "name": "stdout",
          "output_type": "stream",
          "text": [
            "Epoch 2: Training Loss = 0.4042, Validation Accuracy: 85.90%\n"
          ]
        },
        {
          "name": "stderr",
          "output_type": "stream",
          "text": [
            "\r 30%|███       | 3/10 [00:48<01:52, 16.10s/it]"
          ]
        },
        {
          "name": "stdout",
          "output_type": "stream",
          "text": [
            "Epoch 3: Training Loss = 0.3708, Validation Accuracy: 86.20%\n"
          ]
        },
        {
          "name": "stderr",
          "output_type": "stream",
          "text": [
            "\r 40%|████      | 4/10 [01:04<01:37, 16.24s/it]"
          ]
        },
        {
          "name": "stdout",
          "output_type": "stream",
          "text": [
            "Epoch 4: Training Loss = 0.3542, Validation Accuracy: 88.25%\n"
          ]
        },
        {
          "name": "stderr",
          "output_type": "stream",
          "text": [
            "\r 50%|█████     | 5/10 [01:20<01:20, 16.14s/it]"
          ]
        },
        {
          "name": "stdout",
          "output_type": "stream",
          "text": [
            "Epoch 5: Training Loss = 0.3352, Validation Accuracy: 88.62%\n"
          ]
        },
        {
          "name": "stderr",
          "output_type": "stream",
          "text": [
            "\r 60%|██████    | 6/10 [01:37<01:04, 16.19s/it]"
          ]
        },
        {
          "name": "stdout",
          "output_type": "stream",
          "text": [
            "Epoch 6: Training Loss = 0.3174, Validation Accuracy: 88.80%\n"
          ]
        },
        {
          "name": "stderr",
          "output_type": "stream",
          "text": [
            "\r 70%|███████   | 7/10 [01:52<00:48, 16.05s/it]"
          ]
        },
        {
          "name": "stdout",
          "output_type": "stream",
          "text": [
            "Epoch 7: Training Loss = 0.3104, Validation Accuracy: 88.75%\n"
          ]
        },
        {
          "name": "stderr",
          "output_type": "stream",
          "text": [
            "\r 80%|████████  | 8/10 [02:08<00:31, 15.95s/it]"
          ]
        },
        {
          "name": "stdout",
          "output_type": "stream",
          "text": [
            "Epoch 8: Training Loss = 0.3001, Validation Accuracy: 88.23%\n"
          ]
        },
        {
          "name": "stderr",
          "output_type": "stream",
          "text": [
            "\r 90%|█████████ | 9/10 [02:24<00:15, 15.89s/it]"
          ]
        },
        {
          "name": "stdout",
          "output_type": "stream",
          "text": [
            "Epoch 9: Training Loss = 0.2919, Validation Accuracy: 88.78%\n"
          ]
        },
        {
          "name": "stderr",
          "output_type": "stream",
          "text": [
            "100%|██████████| 10/10 [02:40<00:00, 16.09s/it]"
          ]
        },
        {
          "name": "stdout",
          "output_type": "stream",
          "text": [
            "Epoch 10: Training Loss = 0.2896, Validation Accuracy: 87.13%\n"
          ]
        },
        {
          "name": "stderr",
          "output_type": "stream",
          "text": [
            "\n"
          ]
        },
        {
          "name": "stdout",
          "output_type": "stream",
          "text": [
            "Test Accuracy with dropout_rate 0.1: 85.55%\n"
          ]
        },
        {
          "name": "stderr",
          "output_type": "stream",
          "text": [
            " 10%|█         | 1/10 [00:15<02:20, 15.65s/it]"
          ]
        },
        {
          "name": "stdout",
          "output_type": "stream",
          "text": [
            "Epoch 1: Training Loss = 0.6434, Validation Accuracy: 85.73%\n"
          ]
        },
        {
          "name": "stderr",
          "output_type": "stream",
          "text": [
            "\r 20%|██        | 2/10 [00:31<02:04, 15.61s/it]"
          ]
        },
        {
          "name": "stdout",
          "output_type": "stream",
          "text": [
            "Epoch 2: Training Loss = 0.4453, Validation Accuracy: 86.43%\n"
          ]
        },
        {
          "name": "stderr",
          "output_type": "stream",
          "text": [
            "\r 30%|███       | 3/10 [00:47<01:51, 15.98s/it]"
          ]
        },
        {
          "name": "stdout",
          "output_type": "stream",
          "text": [
            "Epoch 3: Training Loss = 0.4105, Validation Accuracy: 87.52%\n"
          ]
        },
        {
          "name": "stderr",
          "output_type": "stream",
          "text": [
            "\r 40%|████      | 4/10 [01:03<01:34, 15.77s/it]"
          ]
        },
        {
          "name": "stdout",
          "output_type": "stream",
          "text": [
            "Epoch 4: Training Loss = 0.3854, Validation Accuracy: 88.05%\n"
          ]
        },
        {
          "name": "stderr",
          "output_type": "stream",
          "text": [
            "\r 50%|█████     | 5/10 [01:18<01:18, 15.67s/it]"
          ]
        },
        {
          "name": "stdout",
          "output_type": "stream",
          "text": [
            "Epoch 5: Training Loss = 0.3670, Validation Accuracy: 88.12%\n"
          ]
        },
        {
          "name": "stderr",
          "output_type": "stream",
          "text": [
            "\r 60%|██████    | 6/10 [01:34<01:02, 15.69s/it]"
          ]
        },
        {
          "name": "stdout",
          "output_type": "stream",
          "text": [
            "Epoch 6: Training Loss = 0.3608, Validation Accuracy: 88.63%\n"
          ]
        },
        {
          "name": "stderr",
          "output_type": "stream",
          "text": [
            "\r 70%|███████   | 7/10 [01:50<00:47, 15.92s/it]"
          ]
        },
        {
          "name": "stdout",
          "output_type": "stream",
          "text": [
            "Epoch 7: Training Loss = 0.3466, Validation Accuracy: 88.32%\n"
          ]
        },
        {
          "name": "stderr",
          "output_type": "stream",
          "text": [
            "\r 80%|████████  | 8/10 [02:06<00:31, 15.81s/it]"
          ]
        },
        {
          "name": "stdout",
          "output_type": "stream",
          "text": [
            "Epoch 8: Training Loss = 0.3418, Validation Accuracy: 88.88%\n"
          ]
        },
        {
          "name": "stderr",
          "output_type": "stream",
          "text": [
            "\r 90%|█████████ | 9/10 [02:21<00:15, 15.67s/it]"
          ]
        },
        {
          "name": "stdout",
          "output_type": "stream",
          "text": [
            "Epoch 9: Training Loss = 0.3390, Validation Accuracy: 88.33%\n"
          ]
        },
        {
          "name": "stderr",
          "output_type": "stream",
          "text": [
            "100%|██████████| 10/10 [02:36<00:00, 15.69s/it]"
          ]
        },
        {
          "name": "stdout",
          "output_type": "stream",
          "text": [
            "Epoch 10: Training Loss = 0.3335, Validation Accuracy: 88.75%\n"
          ]
        },
        {
          "name": "stderr",
          "output_type": "stream",
          "text": [
            "\n"
          ]
        },
        {
          "name": "stdout",
          "output_type": "stream",
          "text": [
            "Test Accuracy with dropout_rate 0.2: 87.51%\n"
          ]
        },
        {
          "name": "stderr",
          "output_type": "stream",
          "text": [
            " 10%|█         | 1/10 [00:15<02:17, 15.31s/it]"
          ]
        },
        {
          "name": "stdout",
          "output_type": "stream",
          "text": [
            "Epoch 1: Training Loss = 0.6839, Validation Accuracy: 84.30%\n"
          ]
        },
        {
          "name": "stderr",
          "output_type": "stream",
          "text": [
            "\r 20%|██        | 2/10 [00:30<02:02, 15.30s/it]"
          ]
        },
        {
          "name": "stdout",
          "output_type": "stream",
          "text": [
            "Epoch 2: Training Loss = 0.4718, Validation Accuracy: 85.65%\n"
          ]
        },
        {
          "name": "stderr",
          "output_type": "stream",
          "text": [
            "\r 30%|███       | 3/10 [00:45<01:47, 15.30s/it]"
          ]
        },
        {
          "name": "stdout",
          "output_type": "stream",
          "text": [
            "Epoch 3: Training Loss = 0.4407, Validation Accuracy: 86.20%\n"
          ]
        },
        {
          "name": "stderr",
          "output_type": "stream",
          "text": [
            "\r 40%|████      | 4/10 [01:02<01:34, 15.71s/it]"
          ]
        },
        {
          "name": "stdout",
          "output_type": "stream",
          "text": [
            "Epoch 4: Training Loss = 0.4295, Validation Accuracy: 86.15%\n"
          ]
        },
        {
          "name": "stderr",
          "output_type": "stream",
          "text": [
            "\r 50%|█████     | 5/10 [01:17<01:18, 15.71s/it]"
          ]
        },
        {
          "name": "stdout",
          "output_type": "stream",
          "text": [
            "Epoch 5: Training Loss = 0.4152, Validation Accuracy: 87.23%\n"
          ]
        },
        {
          "name": "stderr",
          "output_type": "stream",
          "text": [
            "\r 60%|██████    | 6/10 [01:33<01:02, 15.62s/it]"
          ]
        },
        {
          "name": "stdout",
          "output_type": "stream",
          "text": [
            "Epoch 6: Training Loss = 0.4113, Validation Accuracy: 87.32%\n"
          ]
        },
        {
          "name": "stderr",
          "output_type": "stream",
          "text": [
            "\r 70%|███████   | 7/10 [01:48<00:46, 15.53s/it]"
          ]
        },
        {
          "name": "stdout",
          "output_type": "stream",
          "text": [
            "Epoch 7: Training Loss = 0.3978, Validation Accuracy: 87.85%\n"
          ]
        },
        {
          "name": "stderr",
          "output_type": "stream",
          "text": [
            "\r 80%|████████  | 8/10 [02:04<00:31, 15.74s/it]"
          ]
        },
        {
          "name": "stdout",
          "output_type": "stream",
          "text": [
            "Epoch 8: Training Loss = 0.3933, Validation Accuracy: 88.63%\n"
          ]
        },
        {
          "name": "stderr",
          "output_type": "stream",
          "text": [
            "\r 90%|█████████ | 9/10 [02:20<00:15, 15.63s/it]"
          ]
        },
        {
          "name": "stdout",
          "output_type": "stream",
          "text": [
            "Epoch 9: Training Loss = 0.3895, Validation Accuracy: 88.03%\n"
          ]
        },
        {
          "name": "stderr",
          "output_type": "stream",
          "text": [
            "100%|██████████| 10/10 [02:35<00:00, 15.55s/it]"
          ]
        },
        {
          "name": "stdout",
          "output_type": "stream",
          "text": [
            "Epoch 10: Training Loss = 0.3830, Validation Accuracy: 88.72%\n"
          ]
        },
        {
          "name": "stderr",
          "output_type": "stream",
          "text": [
            "\n"
          ]
        },
        {
          "name": "stdout",
          "output_type": "stream",
          "text": [
            "Test Accuracy with dropout_rate 0.3: 87.18%\n"
          ]
        },
        {
          "name": "stderr",
          "output_type": "stream",
          "text": [
            " 10%|█         | 1/10 [00:15<02:23, 15.96s/it]"
          ]
        },
        {
          "name": "stdout",
          "output_type": "stream",
          "text": [
            "Epoch 1: Training Loss = 0.7531, Validation Accuracy: 83.92%\n"
          ]
        },
        {
          "name": "stderr",
          "output_type": "stream",
          "text": [
            "\r 20%|██        | 2/10 [00:31<02:04, 15.57s/it]"
          ]
        },
        {
          "name": "stdout",
          "output_type": "stream",
          "text": [
            "Epoch 2: Training Loss = 0.5331, Validation Accuracy: 85.58%\n"
          ]
        },
        {
          "name": "stderr",
          "output_type": "stream",
          "text": [
            "\r 30%|███       | 3/10 [00:46<01:49, 15.57s/it]"
          ]
        },
        {
          "name": "stdout",
          "output_type": "stream",
          "text": [
            "Epoch 3: Training Loss = 0.4987, Validation Accuracy: 85.67%\n"
          ]
        },
        {
          "name": "stderr",
          "output_type": "stream",
          "text": [
            "\r 40%|████      | 4/10 [01:02<01:32, 15.49s/it]"
          ]
        },
        {
          "name": "stdout",
          "output_type": "stream",
          "text": [
            "Epoch 4: Training Loss = 0.4697, Validation Accuracy: 85.93%\n"
          ]
        },
        {
          "name": "stderr",
          "output_type": "stream",
          "text": [
            "\r 50%|█████     | 5/10 [01:18<01:18, 15.67s/it]"
          ]
        },
        {
          "name": "stdout",
          "output_type": "stream",
          "text": [
            "Epoch 5: Training Loss = 0.4657, Validation Accuracy: 86.13%\n"
          ]
        },
        {
          "name": "stderr",
          "output_type": "stream",
          "text": [
            "\r 60%|██████    | 6/10 [01:33<01:02, 15.58s/it]"
          ]
        },
        {
          "name": "stdout",
          "output_type": "stream",
          "text": [
            "Epoch 6: Training Loss = 0.4685, Validation Accuracy: 87.08%\n"
          ]
        },
        {
          "name": "stderr",
          "output_type": "stream",
          "text": [
            "\r 70%|███████   | 7/10 [01:48<00:46, 15.49s/it]"
          ]
        },
        {
          "name": "stdout",
          "output_type": "stream",
          "text": [
            "Epoch 7: Training Loss = 0.4561, Validation Accuracy: 87.27%\n"
          ]
        },
        {
          "name": "stderr",
          "output_type": "stream",
          "text": [
            "\r 80%|████████  | 8/10 [02:04<00:30, 15.49s/it]"
          ]
        },
        {
          "name": "stdout",
          "output_type": "stream",
          "text": [
            "Epoch 8: Training Loss = 0.4526, Validation Accuracy: 87.72%\n"
          ]
        },
        {
          "name": "stderr",
          "output_type": "stream",
          "text": [
            "\r 90%|█████████ | 9/10 [02:20<00:15, 15.67s/it]"
          ]
        },
        {
          "name": "stdout",
          "output_type": "stream",
          "text": [
            "Epoch 9: Training Loss = 0.4416, Validation Accuracy: 86.60%\n"
          ]
        },
        {
          "name": "stderr",
          "output_type": "stream",
          "text": [
            "100%|██████████| 10/10 [02:35<00:00, 15.58s/it]"
          ]
        },
        {
          "name": "stdout",
          "output_type": "stream",
          "text": [
            "Epoch 10: Training Loss = 0.4427, Validation Accuracy: 87.17%\n"
          ]
        },
        {
          "name": "stderr",
          "output_type": "stream",
          "text": [
            "\n"
          ]
        },
        {
          "name": "stdout",
          "output_type": "stream",
          "text": [
            "Test Accuracy with dropout_rate 0.4: 85.61%\n",
            "Best Test Accuracy: 87.51% with dropout_rate 0.2\n"
          ]
        },
        {
          "data": {
            "image/png": "[encoded data removed]",
            "text/plain": [
              "<Figure size 800x500 with 1 Axes>"
            ]
          },
          "metadata": {},
          "output_type": "display_data"
        }
      ],
      "source": [
        "# Task3(b) adding Dropout\n",
        "test_acc = 0\n",
        "best_dr_rt = 0\n",
        "all_validation_accuracies = []\n",
        "dropout_rates = [0.1, 0.2, 0.3, 0.4]\n",
        "\n",
        "for dr_rt in [0.1, 0.2, 0.3, 0.4]:\n",
        "  train_loss_list, validation_accuracy_list, test_accuracy = FCN_accuracy(\n",
        "    batchSize=512,\n",
        "    test_batch_size=256,\n",
        "    epochs=10,\n",
        "    hidden_dim=[100, 200, 180],\n",
        "    learning_rate=0.005,\n",
        "    optimizer=torch.optim.Adam,\n",
        "    dropout=dr_rt  # Adjust dropout rate\n",
        "  )\n",
        "\n",
        "  all_validation_accuracies.append(validation_accuracy_list)\n",
        "\n",
        "  if test_accuracy > test_acc:\n",
        "    test_acc = test_accuracy\n",
        "    best_dr_rt = dr_rt\n",
        "\n",
        "  print(f\"Test Accuracy with dropout_rate {dr_rt}: {test_accuracy:.2f}%\")\n",
        "\n",
        "print(f\"Best Test Accuracy: {test_acc:.2f}% with dropout_rate {best_dr_rt}\") # compare to 88.23\n",
        "\n",
        "# Plot validation accuracy\n",
        "plt.figure(figsize=(8, 5))\n",
        "for i, dr_rt in enumerate(dropout_rates):\n",
        "    plt.plot(range(1, 11), all_validation_accuracies[i], marker='o', label=f\"Dropout {dr_rt}\")\n",
        "\n",
        "plt.xlabel(\"Epochs\")\n",
        "plt.ylabel(\"Validation Accuracy (%)\")\n",
        "plt.title(\"Validation Accuracy vs. Epochs for Different Dropout Rates\")\n",
        "plt.legend()\n",
        "plt.grid()\n",
        "plt.show()"
      ]
    },
    {
      "cell_type": "code",
      "execution_count": 37,
      "metadata": {
        "id": "ojuVVtfrtH9V",
        "colab": {
          "base_uri": "https://localhost:8080/"
        },
        "outputId": "086c0b85-cc0b-4bad-94a2-4dd8b07dc00f"
      },
      "outputs": [
        {
          "output_type": "stream",
          "name": "stderr",
          "text": [
            " 10%|█         | 1/10 [00:15<02:22, 15.88s/it]"
          ]
        },
        {
          "output_type": "stream",
          "name": "stdout",
          "text": [
            "Epoch 1: Training Loss = 0.7852, Validation Accuracy: 84.48%\n"
          ]
        },
        {
          "output_type": "stream",
          "name": "stderr",
          "text": [
            "\r 20%|██        | 2/10 [00:31<02:04, 15.61s/it]"
          ]
        },
        {
          "output_type": "stream",
          "name": "stdout",
          "text": [
            "Epoch 2: Training Loss = 0.4839, Validation Accuracy: 85.92%\n"
          ]
        },
        {
          "output_type": "stream",
          "name": "stderr",
          "text": [
            "\r 30%|███       | 3/10 [00:46<01:48, 15.49s/it]"
          ]
        },
        {
          "output_type": "stream",
          "name": "stdout",
          "text": [
            "Epoch 3: Training Loss = 0.4434, Validation Accuracy: 86.72%\n"
          ]
        },
        {
          "output_type": "stream",
          "name": "stderr",
          "text": [
            "\r 40%|████      | 4/10 [01:03<01:35, 15.92s/it]"
          ]
        },
        {
          "output_type": "stream",
          "name": "stdout",
          "text": [
            "Epoch 4: Training Loss = 0.4216, Validation Accuracy: 86.53%\n"
          ]
        },
        {
          "output_type": "stream",
          "name": "stderr",
          "text": [
            "\r 50%|█████     | 5/10 [01:18<01:19, 15.85s/it]"
          ]
        },
        {
          "output_type": "stream",
          "name": "stdout",
          "text": [
            "Epoch 5: Training Loss = 0.4087, Validation Accuracy: 87.43%\n"
          ]
        },
        {
          "output_type": "stream",
          "name": "stderr",
          "text": [
            "\r 60%|██████    | 6/10 [01:34<01:03, 15.78s/it]"
          ]
        },
        {
          "output_type": "stream",
          "name": "stdout",
          "text": [
            "Epoch 6: Training Loss = 0.3953, Validation Accuracy: 87.55%\n"
          ]
        },
        {
          "output_type": "stream",
          "name": "stderr",
          "text": [
            "\r 70%|███████   | 7/10 [01:50<00:47, 15.77s/it]"
          ]
        },
        {
          "output_type": "stream",
          "name": "stdout",
          "text": [
            "Epoch 7: Training Loss = 0.3936, Validation Accuracy: 87.58%\n"
          ]
        },
        {
          "output_type": "stream",
          "name": "stderr",
          "text": [
            "\r 80%|████████  | 8/10 [02:06<00:32, 16.02s/it]"
          ]
        },
        {
          "output_type": "stream",
          "name": "stdout",
          "text": [
            "Epoch 8: Training Loss = 0.3732, Validation Accuracy: 88.20%\n"
          ]
        },
        {
          "output_type": "stream",
          "name": "stderr",
          "text": [
            "\r 90%|█████████ | 9/10 [02:22<00:15, 15.96s/it]"
          ]
        },
        {
          "output_type": "stream",
          "name": "stdout",
          "text": [
            "Epoch 9: Training Loss = 0.3699, Validation Accuracy: 88.55%\n"
          ]
        },
        {
          "output_type": "stream",
          "name": "stderr",
          "text": [
            "100%|██████████| 10/10 [02:38<00:00, 15.83s/it]"
          ]
        },
        {
          "output_type": "stream",
          "name": "stdout",
          "text": [
            "Epoch 10: Training Loss = 0.3701, Validation Accuracy: 87.88%\n"
          ]
        },
        {
          "output_type": "stream",
          "name": "stderr",
          "text": [
            "\n"
          ]
        },
        {
          "output_type": "stream",
          "name": "stdout",
          "text": [
            "Test_accuracy with Kaiming (He) Uniform Initialization: 85.82\n"
          ]
        }
      ],
      "source": [
        "# Task3 (c) Kaiming (He) Uniform\n",
        "import torch.nn.init as init\n",
        "\n",
        "class ACAIGFCN1(nn.Module):\n",
        "    def __init__(self, input_dim, output_dim, hidden_dims, dropout_prob):\n",
        "        super(ACAIGFCN1, self).__init__()\n",
        "\n",
        "        self.layers = nn.ModuleList()\n",
        "        self.dropouts = nn.ModuleList()\n",
        "        prev_dim = input_dim\n",
        "\n",
        "        # Hidden Layers with Dropout\n",
        "        for h_dim in hidden_dims:\n",
        "            layer = nn.Linear(prev_dim, h_dim)\n",
        "            self.layers.append(layer)\n",
        "            self.dropouts.append(nn.Dropout(p=dropout_prob))  # Dropout layer\n",
        "            prev_dim = h_dim\n",
        "\n",
        "        # Output Layer\n",
        "        self.output_layer = nn.Linear(prev_dim, output_dim)\n",
        "\n",
        "        # Apply Kaiming Uniform Initialization\n",
        "        self._initialize_weights()\n",
        "\n",
        "    def _initialize_weights(self):\n",
        "        for layer in self.layers:\n",
        "            if isinstance(layer, nn.Linear):\n",
        "                nn.init.kaiming_uniform_(layer.weight, nonlinearity='relu')\n",
        "                nn.init.zeros_(layer.bias)  # Initialize bias to zero\n",
        "\n",
        "        # Initialize output layer\n",
        "        nn.init.kaiming_uniform_(self.output_layer.weight, nonlinearity='linear')\n",
        "        nn.init.zeros_(self.output_layer.bias)\n",
        "\n",
        "    def forward(self, input):\n",
        "        for layer, dropout in zip(self.layers, self.dropouts):\n",
        "            input = torch.nn.functional.relu(layer(input))  # Activation\n",
        "            input = dropout(input)  # Apply Dropout\n",
        "\n",
        "        input = self.output_layer(input)\n",
        "        return input\n",
        "\n",
        "\n",
        "def FCN_accuracy1(batchSize, test_batch_size, epochs,\n",
        "                  hidden_dim, learning_rate, optimizer,dropout):\n",
        "\n",
        "  train_batches = DataLoader(train_split, batch_size=batchSize, shuffle=True)\n",
        "  val_batches = DataLoader(val_split, batch_size=batchSize, shuffle=True)\n",
        "  test_batches = DataLoader(test_dataset, batch_size=test_batch_size, shuffle=True)\n",
        "\n",
        "  # Initialize neural network model #[50, 64, 80]\n",
        "  model = ACAIGFCN1(input_dim = 784, output_dim = 10, hidden_dims = hidden_dim, dropout_prob=dropout)\n",
        "\n",
        "  train_loss_list = np.zeros((epochs,))\n",
        "  validation_accuracy_list = np.zeros((epochs,))\n",
        "\n",
        "  # Define loss function  and optimizer\n",
        "  loss_func = torch.nn.CrossEntropyLoss() # Cross Entropy loss\n",
        "  optm = optimizer(model.parameters(), lr=learning_rate) # torch.optim.SGD\n",
        "\n",
        "  # Iterate over epochs, batches with progress bar and train+ validate the ACAIGFCN\n",
        "  # Track the loss and validation accuracy\n",
        "  for epoch in tqdm.trange(epochs):\n",
        "    total_loss = 0\n",
        "\n",
        "    # ACAIGFCN Training\n",
        "    for train_features, train_labels in train_batches:\n",
        "        # Set model into training mode\n",
        "        model.train()\n",
        "\n",
        "        # Reshape images into a vector\n",
        "        train_features = train_features.reshape(-1, 28*28)\n",
        "\n",
        "        # Reset gradients, Calculate training loss on model\n",
        "        # Perfrom optimization, back propagation\n",
        "        optm.zero_grad()\n",
        "        outputs = model(train_features)\n",
        "        loss = loss_func(outputs, train_labels)\n",
        "        loss.backward()\n",
        "        optm.step()\n",
        "\n",
        "        total_loss += loss.item()\n",
        "\n",
        "    # Record loss for the epoch\n",
        "    train_loss_list[epoch] = total_loss / len(train_batches)\n",
        "\n",
        "\n",
        "    # ACAIGFCN Validation\n",
        "    correct = 0\n",
        "    total = 0\n",
        "    for val_features, val_labels in val_batches:\n",
        "        # Telling PyTorch we aren't passing inputs to network for training purpose\n",
        "        with torch.no_grad():\n",
        "            model.eval()\n",
        "\n",
        "            # Reshape validation images into a vector\n",
        "            val_features = val_features.reshape(-1, 28*28)\n",
        "\n",
        "            # Compute validation outputs (targets)\n",
        "            # and compute accuracy\n",
        "            validation_outputs = model(val_features)\n",
        "\n",
        "            correct += (torch.argmax(validation_outputs, dim=1) == val_labels).sum().item()#.type(torch.FloatTensor)\n",
        "            total += val_labels.size(0)\n",
        "    validation_accuracy_list[epoch] = (correct / total) * 100\n",
        "            #validation_accuracy_list[epoch] += correct.mean().item()\n",
        "\n",
        "    #validation_accuracy_list[epoch] = validation_accuracy_list[epoch]/len(val_batches)\n",
        "\n",
        "    # Record accuracy for the epoch; print training loss, validation accuracy val_acc * 100:.2f\n",
        "    print(f\"Epoch {epoch+1}: Training Loss = {train_loss_list[epoch]:.4f}, Validation Accuracy: {validation_accuracy_list[epoch] :.2f}%\") #)\n",
        "\n",
        "\n",
        "  #Calculate accuracy on test set\n",
        "  t_correct = 0\n",
        "  t_total = 0\n",
        "  # Telling PyTorch we aren't passing inputs to network for training purpose\n",
        "  with torch.no_grad():\n",
        "      for test_features, test_labels in test_batches:\n",
        "        model.eval()\n",
        "        # Reshape test images into a vector\n",
        "        test_features = test_features.reshape(-1, 28*28)\n",
        "\n",
        "        # Get model predictions\n",
        "        t_outputs = model(test_features)\n",
        "        predicted = torch.argmax(t_outputs, dim=1)\n",
        "\n",
        "        # Count correct predictions\n",
        "        t_correct += (predicted == test_labels).sum().item()\n",
        "        t_total += test_labels.size(0)\n",
        "\n",
        "  # Compute total test accuracy\n",
        "  test_accuracy = (t_correct / t_total) * 100\n",
        "\n",
        "  return train_loss_list, validation_accuracy_list, test_accuracy\n",
        "\n",
        "train_loss_list, validation_accuracy_list, test_accuracy = FCN_accuracy1(\n",
        "    batchSize=512,\n",
        "    test_batch_size=256,\n",
        "    epochs=10,\n",
        "    hidden_dim=[100, 200, 180],\n",
        "    learning_rate=0.005,\n",
        "    optimizer=torch.optim.Adam,\n",
        "    dropout=0.1  # Adjust dropout rate\n",
        "  )\n",
        "print(f'Test_accuracy with Kaiming (He) Uniform Initialization: {test_accuracy}')\n"
      ]
    },
    {
      "cell_type": "code",
      "source": [
        "# Create a figure\n",
        "fig, ax1 = plt.subplots(figsize=(8, 5))\n",
        "\n",
        "# Plot Training Loss\n",
        "ax1.plot(range(1, 11), train_loss_list, marker='o', color='blue', label='Training Loss')\n",
        "ax1.set_xlabel(\"Epochs\")\n",
        "ax1.set_ylabel(\"Training Loss\", color='blue')\n",
        "ax1.tick_params(axis='y', labelcolor='blue')\n",
        "\n",
        "# Create a second y-axis for validation accuracy\n",
        "ax2 = ax1.twinx()\n",
        "ax2.plot(range(1, 11), validation_accuracy_list, marker='s', color='red', label='Validation Accuracy')\n",
        "ax2.set_ylabel(\"Validation Accuracy (%)\", color='red')\n",
        "ax2.tick_params(axis='y', labelcolor='red')\n",
        "\n",
        "# Titles and legend\n",
        "plt.title(\"Training Loss and Validation Accuracy with Kaiming (He) Uniform Initialization\")\n",
        "fig.tight_layout()\n",
        "plt.show()"
      ],
      "metadata": {
        "colab": {
          "base_uri": "https://localhost:8080/",
          "height": 482
        },
        "id": "ZotCrSy3m49v",
        "outputId": "f32483d1-96f6-41e7-907d-c01abe72c350"
      },
      "execution_count": 36,
      "outputs": [
        {
          "output_type": "display_data",
          "data": {
            "text/plain": [
              "<Figure size 800x500 with 2 Axes>"
            ],
            "image/png": "[encoded data removed]"
          },
          "metadata": {}
        }
      ]
    },
    {
      "cell_type": "code",
      "execution_count": 38,
      "metadata": {
        "id": "mT_GMKueBfUy"
      },
      "outputs": [],
      "source": [
        "# Task 3(d) Batch Normalization\n",
        "\n",
        "class ACAIGFCN(nn.Module):\n",
        "    def __init__(self, input_dim, output_dim, hidden_dims, dropout_prob):\n",
        "        super(ACAIGFCN, self).__init__()\n",
        "\n",
        "        self.layers = nn.ModuleList()\n",
        "        self.batch_norms = nn.ModuleList()  # BatchNorm layers\n",
        "        self.dropouts = nn.ModuleList()\n",
        "\n",
        "        prev_dim = input_dim\n",
        "\n",
        "        # Hidden Layers with BatchNorm and Dropout\n",
        "        for h_dim in hidden_dims:\n",
        "            layer = nn.Linear(prev_dim, h_dim)\n",
        "            self.layers.append(layer)\n",
        "            self.batch_norms.append(nn.BatchNorm1d(h_dim))  # Apply BatchNorm\n",
        "            self.dropouts.append(nn.Dropout(p=dropout_prob))  # Apply Dropout\n",
        "            prev_dim = h_dim\n",
        "\n",
        "        # Output Layer (no BatchNorm or Dropout)\n",
        "        self.output_layer = nn.Linear(prev_dim, output_dim)\n",
        "\n",
        "        # Apply Kaiming Uniform Initialization\n",
        "        self._initialize_weights()\n",
        "\n",
        "    def _initialize_weights(self):\n",
        "        for layer in self.layers:\n",
        "            if isinstance(layer, nn.Linear):\n",
        "                nn.init.kaiming_uniform_(layer.weight, nonlinearity='relu')\n",
        "                nn.init.zeros_(layer.bias)  # Initialize bias to zero\n",
        "\n",
        "        nn.init.kaiming_uniform_(self.output_layer.weight, nonlinearity='linear')\n",
        "        nn.init.zeros_(self.output_layer.bias)\n",
        "\n",
        "    def forward(self, input):\n",
        "        for layer, batch_norm, dropout in zip(self.layers, self.batch_norms, self.dropouts):\n",
        "            input = layer(input)  # Linear layer\n",
        "            input = batch_norm(input)  # Normalize activations\n",
        "            input = torch.nn.functional.relu(input)  # Apply ReLU\n",
        "            input = dropout(input)  # Apply Dropout\n",
        "\n",
        "        input = self.output_layer(input)  # Final output\n",
        "        return input\n",
        "\n"
      ]
    },
    {
      "cell_type": "code",
      "execution_count": 45,
      "metadata": {
        "id": "33LKzVIwBwU1",
        "colab": {
          "base_uri": "https://localhost:8080/"
        },
        "outputId": "6f483ca2-f0f8-4ced-b725-16e6dfb6b8fb"
      },
      "outputs": [
        {
          "output_type": "stream",
          "name": "stderr",
          "text": [
            " 10%|█         | 1/10 [00:16<02:29, 16.59s/it]"
          ]
        },
        {
          "output_type": "stream",
          "name": "stdout",
          "text": [
            "Epoch 1: Training Loss = 0.6299, Validation Accuracy: 85.22%\n"
          ]
        },
        {
          "output_type": "stream",
          "name": "stderr",
          "text": [
            "\r 20%|██        | 2/10 [00:32<02:08, 16.11s/it]"
          ]
        },
        {
          "output_type": "stream",
          "name": "stdout",
          "text": [
            "Epoch 2: Training Loss = 0.4255, Validation Accuracy: 86.90%\n"
          ]
        },
        {
          "output_type": "stream",
          "name": "stderr",
          "text": [
            "\r 30%|███       | 3/10 [00:48<01:51, 15.94s/it]"
          ]
        },
        {
          "output_type": "stream",
          "name": "stdout",
          "text": [
            "Epoch 3: Training Loss = 0.3889, Validation Accuracy: 87.35%\n"
          ]
        },
        {
          "output_type": "stream",
          "name": "stderr",
          "text": [
            "\r 40%|████      | 4/10 [01:03<01:35, 15.91s/it]"
          ]
        },
        {
          "output_type": "stream",
          "name": "stdout",
          "text": [
            "Epoch 4: Training Loss = 0.3666, Validation Accuracy: 87.72%\n"
          ]
        },
        {
          "output_type": "stream",
          "name": "stderr",
          "text": [
            "\r 50%|█████     | 5/10 [01:20<01:21, 16.22s/it]"
          ]
        },
        {
          "output_type": "stream",
          "name": "stdout",
          "text": [
            "Epoch 5: Training Loss = 0.3553, Validation Accuracy: 86.87%\n"
          ]
        },
        {
          "output_type": "stream",
          "name": "stderr",
          "text": [
            "\r 60%|██████    | 6/10 [01:36<01:04, 16.06s/it]"
          ]
        },
        {
          "output_type": "stream",
          "name": "stdout",
          "text": [
            "Epoch 6: Training Loss = 0.3398, Validation Accuracy: 88.37%\n"
          ]
        },
        {
          "output_type": "stream",
          "name": "stderr",
          "text": [
            "\r 70%|███████   | 7/10 [01:52<00:47, 15.92s/it]"
          ]
        },
        {
          "output_type": "stream",
          "name": "stdout",
          "text": [
            "Epoch 7: Training Loss = 0.3335, Validation Accuracy: 88.08%\n"
          ]
        },
        {
          "output_type": "stream",
          "name": "stderr",
          "text": [
            "\r 80%|████████  | 8/10 [02:07<00:31, 15.91s/it]"
          ]
        },
        {
          "output_type": "stream",
          "name": "stdout",
          "text": [
            "Epoch 8: Training Loss = 0.3279, Validation Accuracy: 88.43%\n"
          ]
        },
        {
          "output_type": "stream",
          "name": "stderr",
          "text": [
            "\r 90%|█████████ | 9/10 [02:24<00:16, 16.20s/it]"
          ]
        },
        {
          "output_type": "stream",
          "name": "stdout",
          "text": [
            "Epoch 9: Training Loss = 0.3145, Validation Accuracy: 88.62%\n"
          ]
        },
        {
          "output_type": "stream",
          "name": "stderr",
          "text": [
            "100%|██████████| 10/10 [02:40<00:00, 16.05s/it]"
          ]
        },
        {
          "output_type": "stream",
          "name": "stdout",
          "text": [
            "Epoch 10: Training Loss = 0.3150, Validation Accuracy: 88.67%\n"
          ]
        },
        {
          "output_type": "stream",
          "name": "stderr",
          "text": [
            "\n"
          ]
        },
        {
          "output_type": "stream",
          "name": "stdout",
          "text": [
            "Test_accuracy with Kaiming (He) Uniform Initialization and Batch normalization(batch size decrease from 512 to 200): 87.48\n"
          ]
        }
      ],
      "source": [
        "train_loss_list, validation_accuracy_list, test_accuracy = FCN_accuracy(\n",
        "    batchSize=400,\n",
        "    test_batch_size=156,\n",
        "    epochs=10,\n",
        "    hidden_dim=[100, 200, 180],\n",
        "    learning_rate=0.005,\n",
        "    optimizer=torch.optim.Adam,\n",
        "    dropout=0.1  # Adjust dropout rate\n",
        "  )\n",
        "print(f'Test_accuracy with Kaiming (He) Uniform Initialization and Batch normalization(batch size decrease from 512 to 200): {test_accuracy}')"
      ]
    },
    {
      "cell_type": "code",
      "source": [
        "# Create a figure with two subplots\n",
        "# fig, ax1 = plt.subplots(figsize=(8, 5))\n",
        "\n",
        "# # Plot Training Loss\n",
        "# ax1.plot(range(1, 11), train_loss_list, marker='o', color='blue', label='Training Loss')\n",
        "# ax1.set_xlabel(\"Epochs\")\n",
        "# ax1.set_ylabel(\"Training Loss\", color='blue')\n",
        "# ax1.tick_params(axis='y', labelcolor='blue')\n",
        "\n",
        "# # Create a second y-axis for validation accuracy\n",
        "# ax2 = ax1.twinx()\n",
        "# ax2.plot(range(1, 11), validation_accuracy_list, marker='s', color='red', label='Validation Accuracy')\n",
        "# ax2.set_ylabel(\"Validation Accuracy (%)\", color='red')\n",
        "# ax2.tick_params(axis='y', labelcolor='red')\n",
        "\n",
        "# # Title and legend\n",
        "# plt.title(\"Training Loss and Validation Accuracy vs. Epochs\")\n",
        "# fig.tight_layout()\n",
        "# plt.show()\n"
      ],
      "metadata": {
        "id": "Uuj5jXzOxlJM"
      },
      "execution_count": 47,
      "outputs": []
    }
  ],
  "metadata": {
    "accelerator": "GPU",
    "colab": {
      "gpuType": "T4",
      "provenance": []
    },
    "kernelspec": {
      "display_name": "Python 3",
      "name": "python3"
    },
    "language_info": {
      "codemirror_mode": {
        "name": "ipython",
        "version": 3
      },
      "file_extension": ".py",
      "mimetype": "text/x-python",
      "name": "python",
      "nbconvert_exporter": "python",
      "pygments_lexer": "ipython3",
      "version": "3.9.7"
    }
  },
  "nbformat": 4,
  "nbformat_minor": 0
}